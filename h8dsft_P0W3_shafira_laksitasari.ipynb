{
 "cells": [
  {
   "cell_type": "markdown",
   "metadata": {},
   "source": [
    "**Using this template**\n",
    "\n",
    "1. Change notebook title to assignment title you working on, eg. `Graded Challenge 1 or Milestone 1`\n",
    "2. Put your identity such as name and batch number below notebook title.\n",
    "3. Write your description before do any work. State your purpose of this assignment and what you are trying to achieve. \n",
    "4. Look at the rubric of this assignment and make sure you understand the criteria.\n",
    "5. Code your solution in the cell provided below the working area section.\n",
    "6. State your conlusions, findings, and any other relevant information in the cell provided below the conclusions sections.\n",
    "7. Save this notebook and rename it to assignment title you working on  eg. `Graded Challenge 1 or Milestone 1`\n",
    "8. Push your assignment before deadline.\n",
    "9. Good Luck!"
   ]
  },
  {
   "cell_type": "markdown",
   "metadata": {},
   "source": [
    "# Graded Challange 3\n",
    "\n",
    "`By Shafira Laksitasari`"
   ]
  },
  {
   "cell_type": "markdown",
   "metadata": {},
   "source": [
    "## Description\n",
    "I am a member of the Data Science team at the Austin Smart City and are working on a project to analyze the city's waste management and disposal systems. As a team member, based on the available data, try to analyze the data using descriptive and inferential statistics, and provide insight to the city of Austin regarding the state of the waste disposal and management system.\n",
    "\n",
    "### Objective\n",
    "In this graded challenge, data is accessed using bigquery-public-data on Google Cloud Big Query. Open Google Cloud Platform, log in to BigQuery, then open the bigquery-public-data tab or click the following link : https://console.cloud.google.com/bigquery?p=bigquery-public-data&d=austin_waste&t=waste_and_diversion&page=table. Continue with predefined dataset usage direction on : https://github.com/H8-Assignments-Bay/p0---ftds014---g3-ShafiraLaksitasari. \n",
    "1. Before performing calculations and statistical analysis, perform data cleaning first. Make sure there are no missing values, etc.\n",
    "2. Next, do a simple data exploration to find out and recognize the data you have. You can do the following to explore your data.\n",
    "3. Based on the central tendency (mean, median, and mode) for each site, what insights/information can you convey to the city government? (Caution: Don't use pd.DataFrame.describe())\n",
    "4. Choose the site that interests you the most, and give a reason.\n",
    "5. Use the site you choose to check whether the load_weight data has outliers or not. Use the right technique according to the distribution of the data!. If so, what is the percentage of the number of outliers? and compare the central tendency of data that has outliers removed with those that have not (the result of calculation number 3).\n",
    "6. Use the site you have selected to calculate the range, variance, and standard deviation for the load_weight data. Provide insight from the results of your calculations to the city government (Make sure the data used is data that has been cleaned of outliers).\n",
    "7. The city government plans to add a new site. Provide analysis and suggestions regarding the amount of storage capacity at the new site based on the calculation of the confidence interval. What data do you use, is it only from one site or from the whole site?\n",
    "8. Make a hypothesis test analysis of the data from the available data (the case is acquitted). Define H0 and H1 and perform calculations using a t-test that matches your hypothesis. Write the conclusion from your calculation to the city government (Remember! the city government doesn't understand p-value, hypothesis is accepted/not accepted).\n",
    "9. Draw a common thread and draw conclusions from the calculations and analyzes you have done in the previous steps. Share your conclusions with the city government and avoid technical language that non-data scientists don't understand!\n",
    "\n",
    "### Problem Statement.\n",
    "3. Based on the central tendency (mean, median, and mode) for each site, what insights/information can you convey to the city government?\n",
    "4. Choosing the site that interestsing the most, and give a reason.\n",
    "5. Checking whether the load_weight data has outliers or not. Use the right technique according to the distribution of the data. If so, what is the percentage of the number of outliers? and compare the central tendency of data that has outliers removed with those that have not.\n",
    "6. Use the to calculate the range, variance, and standard deviation for the load_weight data. Provide insight from the results of the calculations to the city government.\n",
    "7. Providinh analysis and suggestions regarding the amount of storage capacity at the new site based on the calculation of the confidence interval. What data do we use, is it only from one site or from the whole site?\n",
    "8. Make a hypothesis test analysis of the data from the available data (the case is acquitted). Write the conclusion from your calculation to the city government.\n",
    "9. Drawing a common thread and draw conclusions from the calculations and analyzes in the previous steps. "
   ]
  },
  {
   "cell_type": "markdown",
   "metadata": {},
   "source": [
    "## Working Area\n"
   ]
  },
  {
   "cell_type": "code",
   "execution_count": 1,
   "metadata": {},
   "outputs": [],
   "source": [
    "import pandas as pd\n",
    "import numpy as np\n",
    "import scipy.stats as stats\n",
    "import seaborn as sns"
   ]
  },
  {
   "cell_type": "markdown",
   "metadata": {},
   "source": [
    "Displaying head and tail from the dataset"
   ]
  },
  {
   "cell_type": "code",
   "execution_count": 2,
   "metadata": {},
   "outputs": [
    {
     "data": {
      "text/html": [
       "<div>\n",
       "<style scoped>\n",
       "    .dataframe tbody tr th:only-of-type {\n",
       "        vertical-align: middle;\n",
       "    }\n",
       "\n",
       "    .dataframe tbody tr th {\n",
       "        vertical-align: top;\n",
       "    }\n",
       "\n",
       "    .dataframe thead th {\n",
       "        text-align: right;\n",
       "    }\n",
       "</style>\n",
       "<table border=\"1\" class=\"dataframe\">\n",
       "  <thead>\n",
       "    <tr style=\"text-align: right;\">\n",
       "      <th></th>\n",
       "      <th>load_time</th>\n",
       "      <th>load_type</th>\n",
       "      <th>load_weight</th>\n",
       "      <th>dropoff_site</th>\n",
       "    </tr>\n",
       "  </thead>\n",
       "  <tbody>\n",
       "    <tr>\n",
       "      <th>0</th>\n",
       "      <td>2009-08-07T11:51:00Z</td>\n",
       "      <td>RECYCLING - SINGLE STREAM</td>\n",
       "      <td>4400.0</td>\n",
       "      <td>MRF</td>\n",
       "    </tr>\n",
       "    <tr>\n",
       "      <th>1</th>\n",
       "      <td>2008-04-11T12:31:00Z</td>\n",
       "      <td>RECYCLING - PAPER</td>\n",
       "      <td>1920.0</td>\n",
       "      <td>MRF</td>\n",
       "    </tr>\n",
       "    <tr>\n",
       "      <th>2</th>\n",
       "      <td>2009-01-16T12:58:00Z</td>\n",
       "      <td>RECYCLING - SINGLE STREAM</td>\n",
       "      <td>4140.0</td>\n",
       "      <td>MRF</td>\n",
       "    </tr>\n",
       "    <tr>\n",
       "      <th>3</th>\n",
       "      <td>2009-07-10T11:21:00Z</td>\n",
       "      <td>RECYCLING - SINGLE STREAM</td>\n",
       "      <td>4020.0</td>\n",
       "      <td>MRF</td>\n",
       "    </tr>\n",
       "    <tr>\n",
       "      <th>4</th>\n",
       "      <td>2006-02-03T12:36:00Z</td>\n",
       "      <td>RECYCLING - COMINGLE</td>\n",
       "      <td>1700.0</td>\n",
       "      <td>MRF</td>\n",
       "    </tr>\n",
       "  </tbody>\n",
       "</table>\n",
       "</div>"
      ],
      "text/plain": [
       "              load_time                  load_type  load_weight dropoff_site\n",
       "0  2009-08-07T11:51:00Z  RECYCLING - SINGLE STREAM       4400.0          MRF\n",
       "1  2008-04-11T12:31:00Z          RECYCLING - PAPER       1920.0          MRF\n",
       "2  2009-01-16T12:58:00Z  RECYCLING - SINGLE STREAM       4140.0          MRF\n",
       "3  2009-07-10T11:21:00Z  RECYCLING - SINGLE STREAM       4020.0          MRF\n",
       "4  2006-02-03T12:36:00Z       RECYCLING - COMINGLE       1700.0          MRF"
      ]
     },
     "execution_count": 2,
     "metadata": {},
     "output_type": "execute_result"
    }
   ],
   "source": [
    "df = pd.read_csv('/Users/shafiralaksitasari/Documents/Hacktiv8/Graded/Phase 0/p0---ftds014---g3-ShafiraLaksitasari/h8dsft_P0W3_shafira_laksitasari.ipynb.csv', na_values = 0.0)\n",
    "df.head()"
   ]
  },
  {
   "cell_type": "code",
   "execution_count": 3,
   "metadata": {},
   "outputs": [
    {
     "data": {
      "text/html": [
       "<div>\n",
       "<style scoped>\n",
       "    .dataframe tbody tr th:only-of-type {\n",
       "        vertical-align: middle;\n",
       "    }\n",
       "\n",
       "    .dataframe tbody tr th {\n",
       "        vertical-align: top;\n",
       "    }\n",
       "\n",
       "    .dataframe thead th {\n",
       "        text-align: right;\n",
       "    }\n",
       "</style>\n",
       "<table border=\"1\" class=\"dataframe\">\n",
       "  <thead>\n",
       "    <tr style=\"text-align: right;\">\n",
       "      <th></th>\n",
       "      <th>load_time</th>\n",
       "      <th>load_type</th>\n",
       "      <th>load_weight</th>\n",
       "      <th>dropoff_site</th>\n",
       "    </tr>\n",
       "  </thead>\n",
       "  <tbody>\n",
       "    <tr>\n",
       "      <th>94887</th>\n",
       "      <td>2006-05-12T11:00:00Z</td>\n",
       "      <td>BRUSH</td>\n",
       "      <td>4000.0</td>\n",
       "      <td>ZILKER</td>\n",
       "    </tr>\n",
       "    <tr>\n",
       "      <th>94888</th>\n",
       "      <td>2006-05-13T08:30:00Z</td>\n",
       "      <td>BRUSH</td>\n",
       "      <td>4000.0</td>\n",
       "      <td>ZILKER</td>\n",
       "    </tr>\n",
       "    <tr>\n",
       "      <th>94889</th>\n",
       "      <td>2006-05-13T10:15:00Z</td>\n",
       "      <td>BRUSH</td>\n",
       "      <td>4000.0</td>\n",
       "      <td>ZILKER</td>\n",
       "    </tr>\n",
       "    <tr>\n",
       "      <th>94890</th>\n",
       "      <td>2006-05-13T01:00:00Z</td>\n",
       "      <td>BRUSH</td>\n",
       "      <td>4000.0</td>\n",
       "      <td>ZILKER</td>\n",
       "    </tr>\n",
       "    <tr>\n",
       "      <th>94891</th>\n",
       "      <td>2006-05-18T12:15:00Z</td>\n",
       "      <td>BRUSH</td>\n",
       "      <td>4000.0</td>\n",
       "      <td>ZILKER</td>\n",
       "    </tr>\n",
       "  </tbody>\n",
       "</table>\n",
       "</div>"
      ],
      "text/plain": [
       "                  load_time load_type  load_weight dropoff_site\n",
       "94887  2006-05-12T11:00:00Z     BRUSH       4000.0       ZILKER\n",
       "94888  2006-05-13T08:30:00Z     BRUSH       4000.0       ZILKER\n",
       "94889  2006-05-13T10:15:00Z     BRUSH       4000.0       ZILKER\n",
       "94890  2006-05-13T01:00:00Z     BRUSH       4000.0       ZILKER\n",
       "94891  2006-05-18T12:15:00Z     BRUSH       4000.0       ZILKER"
      ]
     },
     "execution_count": 3,
     "metadata": {},
     "output_type": "execute_result"
    }
   ],
   "source": [
    "df.tail()"
   ]
  },
  {
   "cell_type": "markdown",
   "metadata": {},
   "source": [
    "#### 1. Before performing calculations and statistical analysis, we perform data cleaning first. "
   ]
  },
  {
   "cell_type": "markdown",
   "metadata": {},
   "source": [
    "Checking whether there are any missing values from the data"
   ]
  },
  {
   "cell_type": "code",
   "execution_count": 4,
   "metadata": {},
   "outputs": [
    {
     "name": "stdout",
     "output_type": "stream",
     "text": [
      "<class 'pandas.core.frame.DataFrame'>\n",
      "RangeIndex: 94892 entries, 0 to 94891\n",
      "Data columns (total 4 columns):\n",
      " #   Column        Non-Null Count  Dtype  \n",
      "---  ------        --------------  -----  \n",
      " 0   load_time     94892 non-null  object \n",
      " 1   load_type     94892 non-null  object \n",
      " 2   load_weight   90129 non-null  float64\n",
      " 3   dropoff_site  94892 non-null  object \n",
      "dtypes: float64(1), object(3)\n",
      "memory usage: 2.9+ MB\n"
     ]
    }
   ],
   "source": [
    "df.info()"
   ]
  },
  {
   "cell_type": "markdown",
   "metadata": {},
   "source": [
    "There are null data on 'load_weight', we will delete those null data and set those into permanent."
   ]
  },
  {
   "cell_type": "code",
   "execution_count": 5,
   "metadata": {},
   "outputs": [
    {
     "data": {
      "text/html": [
       "<div>\n",
       "<style scoped>\n",
       "    .dataframe tbody tr th:only-of-type {\n",
       "        vertical-align: middle;\n",
       "    }\n",
       "\n",
       "    .dataframe tbody tr th {\n",
       "        vertical-align: top;\n",
       "    }\n",
       "\n",
       "    .dataframe thead th {\n",
       "        text-align: right;\n",
       "    }\n",
       "</style>\n",
       "<table border=\"1\" class=\"dataframe\">\n",
       "  <thead>\n",
       "    <tr style=\"text-align: right;\">\n",
       "      <th></th>\n",
       "      <th>load_time</th>\n",
       "      <th>load_type</th>\n",
       "      <th>load_weight</th>\n",
       "      <th>dropoff_site</th>\n",
       "    </tr>\n",
       "  </thead>\n",
       "  <tbody>\n",
       "    <tr>\n",
       "      <th>0</th>\n",
       "      <td>2009-08-07T11:51:00Z</td>\n",
       "      <td>RECYCLING - SINGLE STREAM</td>\n",
       "      <td>4400.0</td>\n",
       "      <td>MRF</td>\n",
       "    </tr>\n",
       "    <tr>\n",
       "      <th>1</th>\n",
       "      <td>2008-04-11T12:31:00Z</td>\n",
       "      <td>RECYCLING - PAPER</td>\n",
       "      <td>1920.0</td>\n",
       "      <td>MRF</td>\n",
       "    </tr>\n",
       "    <tr>\n",
       "      <th>2</th>\n",
       "      <td>2009-01-16T12:58:00Z</td>\n",
       "      <td>RECYCLING - SINGLE STREAM</td>\n",
       "      <td>4140.0</td>\n",
       "      <td>MRF</td>\n",
       "    </tr>\n",
       "    <tr>\n",
       "      <th>3</th>\n",
       "      <td>2009-07-10T11:21:00Z</td>\n",
       "      <td>RECYCLING - SINGLE STREAM</td>\n",
       "      <td>4020.0</td>\n",
       "      <td>MRF</td>\n",
       "    </tr>\n",
       "    <tr>\n",
       "      <th>4</th>\n",
       "      <td>2006-02-03T12:36:00Z</td>\n",
       "      <td>RECYCLING - COMINGLE</td>\n",
       "      <td>1700.0</td>\n",
       "      <td>MRF</td>\n",
       "    </tr>\n",
       "    <tr>\n",
       "      <th>...</th>\n",
       "      <td>...</td>\n",
       "      <td>...</td>\n",
       "      <td>...</td>\n",
       "      <td>...</td>\n",
       "    </tr>\n",
       "    <tr>\n",
       "      <th>94887</th>\n",
       "      <td>2006-05-12T11:00:00Z</td>\n",
       "      <td>BRUSH</td>\n",
       "      <td>4000.0</td>\n",
       "      <td>ZILKER</td>\n",
       "    </tr>\n",
       "    <tr>\n",
       "      <th>94888</th>\n",
       "      <td>2006-05-13T08:30:00Z</td>\n",
       "      <td>BRUSH</td>\n",
       "      <td>4000.0</td>\n",
       "      <td>ZILKER</td>\n",
       "    </tr>\n",
       "    <tr>\n",
       "      <th>94889</th>\n",
       "      <td>2006-05-13T10:15:00Z</td>\n",
       "      <td>BRUSH</td>\n",
       "      <td>4000.0</td>\n",
       "      <td>ZILKER</td>\n",
       "    </tr>\n",
       "    <tr>\n",
       "      <th>94890</th>\n",
       "      <td>2006-05-13T01:00:00Z</td>\n",
       "      <td>BRUSH</td>\n",
       "      <td>4000.0</td>\n",
       "      <td>ZILKER</td>\n",
       "    </tr>\n",
       "    <tr>\n",
       "      <th>94891</th>\n",
       "      <td>2006-05-18T12:15:00Z</td>\n",
       "      <td>BRUSH</td>\n",
       "      <td>4000.0</td>\n",
       "      <td>ZILKER</td>\n",
       "    </tr>\n",
       "  </tbody>\n",
       "</table>\n",
       "<p>90129 rows × 4 columns</p>\n",
       "</div>"
      ],
      "text/plain": [
       "                  load_time                  load_type  load_weight  \\\n",
       "0      2009-08-07T11:51:00Z  RECYCLING - SINGLE STREAM       4400.0   \n",
       "1      2008-04-11T12:31:00Z          RECYCLING - PAPER       1920.0   \n",
       "2      2009-01-16T12:58:00Z  RECYCLING - SINGLE STREAM       4140.0   \n",
       "3      2009-07-10T11:21:00Z  RECYCLING - SINGLE STREAM       4020.0   \n",
       "4      2006-02-03T12:36:00Z       RECYCLING - COMINGLE       1700.0   \n",
       "...                     ...                        ...          ...   \n",
       "94887  2006-05-12T11:00:00Z                      BRUSH       4000.0   \n",
       "94888  2006-05-13T08:30:00Z                      BRUSH       4000.0   \n",
       "94889  2006-05-13T10:15:00Z                      BRUSH       4000.0   \n",
       "94890  2006-05-13T01:00:00Z                      BRUSH       4000.0   \n",
       "94891  2006-05-18T12:15:00Z                      BRUSH       4000.0   \n",
       "\n",
       "      dropoff_site  \n",
       "0              MRF  \n",
       "1              MRF  \n",
       "2              MRF  \n",
       "3              MRF  \n",
       "4              MRF  \n",
       "...            ...  \n",
       "94887       ZILKER  \n",
       "94888       ZILKER  \n",
       "94889       ZILKER  \n",
       "94890       ZILKER  \n",
       "94891       ZILKER  \n",
       "\n",
       "[90129 rows x 4 columns]"
      ]
     },
     "execution_count": 5,
     "metadata": {},
     "output_type": "execute_result"
    }
   ],
   "source": [
    "df.dropna(inplace=True)\n",
    "df"
   ]
  },
  {
   "cell_type": "markdown",
   "metadata": {},
   "source": [
    "From data above, the rows change from 94892 to 90276. This new row number equal with values for 90276 no-null from 'df.info()`, so there are no more null data. We can checking the total null from current df. "
   ]
  },
  {
   "cell_type": "code",
   "execution_count": 6,
   "metadata": {},
   "outputs": [
    {
     "data": {
      "text/plain": [
       "load_time       0\n",
       "load_type       0\n",
       "load_weight     0\n",
       "dropoff_site    0\n",
       "dtype: int64"
      ]
     },
     "execution_count": 6,
     "metadata": {},
     "output_type": "execute_result"
    }
   ],
   "source": [
    "df.isnull().sum()"
   ]
  },
  {
   "cell_type": "markdown",
   "metadata": {},
   "source": [
    "`Should we change the data type on 'load_time'  into date_time?` Yes"
   ]
  },
  {
   "cell_type": "code",
   "execution_count": 7,
   "metadata": {},
   "outputs": [],
   "source": [
    "df[\"load_time\"] = pd.to_datetime(df[\"load_time\"])"
   ]
  },
  {
   "cell_type": "code",
   "execution_count": 8,
   "metadata": {},
   "outputs": [
    {
     "name": "stdout",
     "output_type": "stream",
     "text": [
      "<class 'pandas.core.frame.DataFrame'>\n",
      "Int64Index: 90129 entries, 0 to 94891\n",
      "Data columns (total 4 columns):\n",
      " #   Column        Non-Null Count  Dtype              \n",
      "---  ------        --------------  -----              \n",
      " 0   load_time     90129 non-null  datetime64[ns, UTC]\n",
      " 1   load_type     90129 non-null  object             \n",
      " 2   load_weight   90129 non-null  float64            \n",
      " 3   dropoff_site  90129 non-null  object             \n",
      "dtypes: datetime64[ns, UTC](1), float64(1), object(2)\n",
      "memory usage: 3.4+ MB\n"
     ]
    }
   ],
   "source": [
    "df.info()"
   ]
  },
  {
   "cell_type": "markdown",
   "metadata": {},
   "source": [
    "Now after all set, we continue to the next steps."
   ]
  },
  {
   "cell_type": "markdown",
   "metadata": {},
   "source": [
    "#### 2. Next, doing a simple data exploration to find out and recognize the data we have."
   ]
  },
  {
   "cell_type": "code",
   "execution_count": 9,
   "metadata": {},
   "outputs": [
    {
     "data": {
      "text/plain": [
       "482918271.0"
      ]
     },
     "execution_count": 9,
     "metadata": {},
     "output_type": "execute_result"
    }
   ],
   "source": [
    "df['load_weight'].sum()"
   ]
  },
  {
   "cell_type": "code",
   "execution_count": 10,
   "metadata": {},
   "outputs": [
    {
     "data": {
      "text/html": [
       "<div>\n",
       "<style scoped>\n",
       "    .dataframe tbody tr th:only-of-type {\n",
       "        vertical-align: middle;\n",
       "    }\n",
       "\n",
       "    .dataframe tbody tr th {\n",
       "        vertical-align: top;\n",
       "    }\n",
       "\n",
       "    .dataframe thead th {\n",
       "        text-align: right;\n",
       "    }\n",
       "</style>\n",
       "<table border=\"1\" class=\"dataframe\">\n",
       "  <thead>\n",
       "    <tr style=\"text-align: right;\">\n",
       "      <th></th>\n",
       "      <th>load_time</th>\n",
       "      <th>load_type</th>\n",
       "      <th>load_weight</th>\n",
       "      <th>dropoff_site</th>\n",
       "    </tr>\n",
       "  </thead>\n",
       "  <tbody>\n",
       "    <tr>\n",
       "      <th>26375</th>\n",
       "      <td>2000-01-26 12:39:00+00:00</td>\n",
       "      <td>RECYCLING - PAPER</td>\n",
       "      <td>2940.0</td>\n",
       "      <td>MRF</td>\n",
       "    </tr>\n",
       "    <tr>\n",
       "      <th>53702</th>\n",
       "      <td>2004-08-30 01:26:00+00:00</td>\n",
       "      <td>RECYCLING - PAPER</td>\n",
       "      <td>8580.0</td>\n",
       "      <td>MRF</td>\n",
       "    </tr>\n",
       "    <tr>\n",
       "      <th>53635</th>\n",
       "      <td>2004-08-30 01:40:00+00:00</td>\n",
       "      <td>RECYCLING - COMINGLE</td>\n",
       "      <td>4580.0</td>\n",
       "      <td>MRF</td>\n",
       "    </tr>\n",
       "    <tr>\n",
       "      <th>19764</th>\n",
       "      <td>2004-10-01 01:00:00+00:00</td>\n",
       "      <td>RECYCLING - COMINGLE</td>\n",
       "      <td>3420.0</td>\n",
       "      <td>MRF</td>\n",
       "    </tr>\n",
       "    <tr>\n",
       "      <th>20901</th>\n",
       "      <td>2004-10-01 01:00:00+00:00</td>\n",
       "      <td>RECYCLING - PAPER</td>\n",
       "      <td>2940.0</td>\n",
       "      <td>MRF</td>\n",
       "    </tr>\n",
       "    <tr>\n",
       "      <th>...</th>\n",
       "      <td>...</td>\n",
       "      <td>...</td>\n",
       "      <td>...</td>\n",
       "      <td>...</td>\n",
       "    </tr>\n",
       "    <tr>\n",
       "      <th>54829</th>\n",
       "      <td>2021-07-11 07:00:39+00:00</td>\n",
       "      <td>RECYCLING - COMINGLE</td>\n",
       "      <td>5280.0</td>\n",
       "      <td>MRF</td>\n",
       "    </tr>\n",
       "    <tr>\n",
       "      <th>48401</th>\n",
       "      <td>2021-07-11 07:00:39+00:00</td>\n",
       "      <td>RECYCLING - COMINGLE</td>\n",
       "      <td>2700.0</td>\n",
       "      <td>MRF</td>\n",
       "    </tr>\n",
       "    <tr>\n",
       "      <th>22873</th>\n",
       "      <td>2021-07-11 07:01:08+00:00</td>\n",
       "      <td>RECYCLING - COMINGLE</td>\n",
       "      <td>3500.0</td>\n",
       "      <td>MRF</td>\n",
       "    </tr>\n",
       "    <tr>\n",
       "      <th>23766</th>\n",
       "      <td>2021-07-11 07:01:08+00:00</td>\n",
       "      <td>RECYCLING - COMINGLE</td>\n",
       "      <td>2900.0</td>\n",
       "      <td>MRF</td>\n",
       "    </tr>\n",
       "    <tr>\n",
       "      <th>9967</th>\n",
       "      <td>2021-07-11 07:07:05+00:00</td>\n",
       "      <td>TIRES</td>\n",
       "      <td>2120.0</td>\n",
       "      <td>MRF</td>\n",
       "    </tr>\n",
       "  </tbody>\n",
       "</table>\n",
       "<p>90129 rows × 4 columns</p>\n",
       "</div>"
      ],
      "text/plain": [
       "                      load_time             load_type  load_weight  \\\n",
       "26375 2000-01-26 12:39:00+00:00     RECYCLING - PAPER       2940.0   \n",
       "53702 2004-08-30 01:26:00+00:00     RECYCLING - PAPER       8580.0   \n",
       "53635 2004-08-30 01:40:00+00:00  RECYCLING - COMINGLE       4580.0   \n",
       "19764 2004-10-01 01:00:00+00:00  RECYCLING - COMINGLE       3420.0   \n",
       "20901 2004-10-01 01:00:00+00:00     RECYCLING - PAPER       2940.0   \n",
       "...                         ...                   ...          ...   \n",
       "54829 2021-07-11 07:00:39+00:00  RECYCLING - COMINGLE       5280.0   \n",
       "48401 2021-07-11 07:00:39+00:00  RECYCLING - COMINGLE       2700.0   \n",
       "22873 2021-07-11 07:01:08+00:00  RECYCLING - COMINGLE       3500.0   \n",
       "23766 2021-07-11 07:01:08+00:00  RECYCLING - COMINGLE       2900.0   \n",
       "9967  2021-07-11 07:07:05+00:00                 TIRES       2120.0   \n",
       "\n",
       "      dropoff_site  \n",
       "26375          MRF  \n",
       "53702          MRF  \n",
       "53635          MRF  \n",
       "19764          MRF  \n",
       "20901          MRF  \n",
       "...            ...  \n",
       "54829          MRF  \n",
       "48401          MRF  \n",
       "22873          MRF  \n",
       "23766          MRF  \n",
       "9967           MRF  \n",
       "\n",
       "[90129 rows x 4 columns]"
      ]
     },
     "execution_count": 10,
     "metadata": {},
     "output_type": "execute_result"
    }
   ],
   "source": [
    "df.sort_values(by='load_time', ascending=True)"
   ]
  },
  {
   "cell_type": "markdown",
   "metadata": {},
   "source": [
    "Based on the result above, from period range of 2000 until 2021 in 90275 diversion process there are about 482918271 load of waste. There are several load type of the waste from the data, we can check the type from bar chart below. The bar chart showing the frequency of the diversion for each type from the value. The most load type to transport is Paper while the least are Organics and Christmas Tree"
   ]
  },
  {
   "cell_type": "code",
   "execution_count": 11,
   "metadata": {},
   "outputs": [
    {
     "data": {
      "text/plain": [
       "<AxesSubplot:title={'center':'Total number of diversion for each load type from 2000 - 2021'}>"
      ]
     },
     "execution_count": 11,
     "metadata": {},
     "output_type": "execute_result"
    },
    {
     "data": {
      "image/png": "[encoded data removed]",
      "text/plain": [
       "<Figure size 432x288 with 1 Axes>"
      ]
     },
     "metadata": {
      "needs_background": "light"
     },
     "output_type": "display_data"
    }
   ],
   "source": [
    "df[\"load_type\"].value_counts().plot(kind=\"bar\", x='load type', y='tot', title='Total number of diversion for each load type from 2000 - 2021')"
   ]
  },
  {
   "cell_type": "code",
   "execution_count": 12,
   "metadata": {},
   "outputs": [
    {
     "data": {
      "text/plain": [
       "RECYCLING - PAPER              31954\n",
       "RECYCLING - COMINGLE           31043\n",
       "RECYCLING - SINGLE STREAM      24910\n",
       "TIRES                           1469\n",
       "YARD TRIMMING                    480\n",
       "BRUSH                            187\n",
       "SWEEPING                          26\n",
       "RECYCLED METAL                    25\n",
       "BULK                              17\n",
       "GARBAGE COLLECTIONS                6\n",
       "MIXED LITTER                       4\n",
       "RECYCLING - PLASTIC BAGS           4\n",
       "MULCH                              2\n",
       "ORGANICS                           1\n",
       "YARD TRIMMING - X-MAS TREES        1\n",
       "Name: load_type, dtype: int64"
      ]
     },
     "execution_count": 12,
     "metadata": {},
     "output_type": "execute_result"
    }
   ],
   "source": [
    "df['load_type'].value_counts()"
   ]
  },
  {
   "cell_type": "markdown",
   "metadata": {},
   "source": [
    "Beside knowing which load type is the most mainstream, we also need to being inform that MRF is the most popular drop site or final destination for the waste. See from th value each of the sites below."
   ]
  },
  {
   "cell_type": "code",
   "execution_count": 13,
   "metadata": {},
   "outputs": [
    {
     "data": {
      "text/plain": [
       "MRF       89456\n",
       "ZILKER      656\n",
       "WILCAB        9\n",
       "ELMONT        5\n",
       "KRAMER        3\n",
       "Name: dropoff_site, dtype: int64"
      ]
     },
     "execution_count": 13,
     "metadata": {},
     "output_type": "execute_result"
    }
   ],
   "source": [
    "df['dropoff_site'].value_counts()"
   ]
  },
  {
   "cell_type": "markdown",
   "metadata": {},
   "source": [
    "To digging more about each of the site, the data below showing the number of all load type which had been done in each site."
   ]
  },
  {
   "cell_type": "code",
   "execution_count": 14,
   "metadata": {},
   "outputs": [
    {
     "data": {
      "text/plain": [
       "dropoff_site  load_type                  \n",
       "ELMONT        SWEEPING                           5\n",
       "KRAMER        RECYCLING - COMINGLE               1\n",
       "              SWEEPING                           2\n",
       "MRF           BRUSH                              1\n",
       "              BULK                              17\n",
       "              GARBAGE COLLECTIONS                1\n",
       "              MIXED LITTER                       2\n",
       "              MULCH                              2\n",
       "              ORGANICS                           1\n",
       "              RECYCLED METAL                    25\n",
       "              RECYCLING - COMINGLE           31042\n",
       "              RECYCLING - PAPER              31954\n",
       "              RECYCLING - PLASTIC BAGS           4\n",
       "              RECYCLING - SINGLE STREAM      24909\n",
       "              SWEEPING                          13\n",
       "              TIRES                           1469\n",
       "              YARD TRIMMING                     16\n",
       "WILCAB        MIXED LITTER                       2\n",
       "              SWEEPING                           6\n",
       "              YARD TRIMMING                      1\n",
       "ZILKER        BRUSH                            186\n",
       "              GARBAGE COLLECTIONS                5\n",
       "              RECYCLING - SINGLE STREAM          1\n",
       "              YARD TRIMMING                    463\n",
       "              YARD TRIMMING - X-MAS TREES        1\n",
       "Name: load_type, dtype: int64"
      ]
     },
     "execution_count": 14,
     "metadata": {},
     "output_type": "execute_result"
    }
   ],
   "source": [
    "df.groupby(['dropoff_site','load_type'])['load_type'].count()"
   ]
  },
  {
   "cell_type": "markdown",
   "metadata": {},
   "source": [
    "Not all sites handle all kind of load_type. Later, we will investigate this situation."
   ]
  },
  {
   "cell_type": "markdown",
   "metadata": {},
   "source": [
    "#### 3. Based on the central tendency (mean, median, and mode) for each site, we need to find insight."
   ]
  },
  {
   "cell_type": "markdown",
   "metadata": {},
   "source": [
    "The mean, median, and mode for overall load weight. This overall CT only as information."
   ]
  },
  {
   "cell_type": "code",
   "execution_count": 15,
   "metadata": {},
   "outputs": [
    {
     "name": "stdout",
     "output_type": "stream",
     "text": [
      "The mean for overall load weight :  5358.078653929368\n",
      "The median for overall load weight :  4280.0\n",
      "The mode for overall load weight :  0    4000.0\n",
      "Name: load_weight, dtype: float64\n",
      "The Min for overall load weight :  20.0\n",
      "The Max for overall load weight :  75000.0\n"
     ]
    }
   ],
   "source": [
    "print ('The mean for overall load weight : ',df['load_weight'].mean())\n",
    "print ('The median for overall load weight : ',df['load_weight'].median())\n",
    "print ('The mode for overall load weight : ',df['load_weight'].mode())\n",
    "print ('The Min for overall load weight : ' , df['load_weight'].min())\n",
    "print ('The Max for overall load weight : ' , df['load_weight'].max())\n"
   ]
  },
  {
   "cell_type": "code",
   "execution_count": 16,
   "metadata": {},
   "outputs": [
    {
     "data": {
      "text/html": [
       "<div>\n",
       "<style scoped>\n",
       "    .dataframe tbody tr th:only-of-type {\n",
       "        vertical-align: middle;\n",
       "    }\n",
       "\n",
       "    .dataframe tbody tr th {\n",
       "        vertical-align: top;\n",
       "    }\n",
       "\n",
       "    .dataframe thead th {\n",
       "        text-align: right;\n",
       "    }\n",
       "</style>\n",
       "<table border=\"1\" class=\"dataframe\">\n",
       "  <thead>\n",
       "    <tr style=\"text-align: right;\">\n",
       "      <th></th>\n",
       "      <th>load_weight</th>\n",
       "    </tr>\n",
       "    <tr>\n",
       "      <th>dropoff_site</th>\n",
       "      <th></th>\n",
       "    </tr>\n",
       "  </thead>\n",
       "  <tbody>\n",
       "    <tr>\n",
       "      <th>ELMONT</th>\n",
       "      <td>15303.400000</td>\n",
       "    </tr>\n",
       "    <tr>\n",
       "      <th>KRAMER</th>\n",
       "      <td>11660.000000</td>\n",
       "    </tr>\n",
       "    <tr>\n",
       "      <th>MRF</th>\n",
       "      <td>5313.737893</td>\n",
       "    </tr>\n",
       "    <tr>\n",
       "      <th>WILCAB</th>\n",
       "      <td>11022.222222</td>\n",
       "    </tr>\n",
       "    <tr>\n",
       "      <th>ZILKER</th>\n",
       "      <td>11222.312500</td>\n",
       "    </tr>\n",
       "  </tbody>\n",
       "</table>\n",
       "</div>"
      ],
      "text/plain": [
       "               load_weight\n",
       "dropoff_site              \n",
       "ELMONT        15303.400000\n",
       "KRAMER        11660.000000\n",
       "MRF            5313.737893\n",
       "WILCAB        11022.222222\n",
       "ZILKER        11222.312500"
      ]
     },
     "execution_count": 16,
     "metadata": {},
     "output_type": "execute_result"
    }
   ],
   "source": [
    "df.groupby(by='dropoff_site')[['load_weight']].mean()\n",
    "#.sort_values(by='load_weight', ascending=False)"
   ]
  },
  {
   "cell_type": "code",
   "execution_count": 17,
   "metadata": {},
   "outputs": [
    {
     "data": {
      "text/html": [
       "<div>\n",
       "<style scoped>\n",
       "    .dataframe tbody tr th:only-of-type {\n",
       "        vertical-align: middle;\n",
       "    }\n",
       "\n",
       "    .dataframe tbody tr th {\n",
       "        vertical-align: top;\n",
       "    }\n",
       "\n",
       "    .dataframe thead th {\n",
       "        text-align: right;\n",
       "    }\n",
       "</style>\n",
       "<table border=\"1\" class=\"dataframe\">\n",
       "  <thead>\n",
       "    <tr style=\"text-align: right;\">\n",
       "      <th></th>\n",
       "      <th>load_weight</th>\n",
       "    </tr>\n",
       "    <tr>\n",
       "      <th>dropoff_site</th>\n",
       "      <th></th>\n",
       "    </tr>\n",
       "  </thead>\n",
       "  <tbody>\n",
       "    <tr>\n",
       "      <th>ELMONT</th>\n",
       "      <td>12560.0</td>\n",
       "    </tr>\n",
       "    <tr>\n",
       "      <th>KRAMER</th>\n",
       "      <td>11400.0</td>\n",
       "    </tr>\n",
       "    <tr>\n",
       "      <th>MRF</th>\n",
       "      <td>4260.0</td>\n",
       "    </tr>\n",
       "    <tr>\n",
       "      <th>WILCAB</th>\n",
       "      <td>10380.0</td>\n",
       "    </tr>\n",
       "    <tr>\n",
       "      <th>ZILKER</th>\n",
       "      <td>15000.0</td>\n",
       "    </tr>\n",
       "  </tbody>\n",
       "</table>\n",
       "</div>"
      ],
      "text/plain": [
       "              load_weight\n",
       "dropoff_site             \n",
       "ELMONT            12560.0\n",
       "KRAMER            11400.0\n",
       "MRF                4260.0\n",
       "WILCAB            10380.0\n",
       "ZILKER            15000.0"
      ]
     },
     "execution_count": 17,
     "metadata": {},
     "output_type": "execute_result"
    }
   ],
   "source": [
    "df.groupby(by='dropoff_site')[['load_weight']].median()\n",
    "#.sort_values(by='load_weight', ascending=False)"
   ]
  },
  {
   "cell_type": "markdown",
   "metadata": {},
   "source": [
    "The mean identifies the average load weight for each site, while the median indicates a limit to the load weight at each site. To compare them mostly, the median is smaller than the mean except for Zilker"
   ]
  },
  {
   "cell_type": "code",
   "execution_count": 18,
   "metadata": {},
   "outputs": [
    {
     "data": {
      "text/plain": [
       "dropoff_site\n",
       "ELMONT    31857.0\n",
       "KRAMER    19600.0\n",
       "MRF       27320.0\n",
       "WILCAB    24060.0\n",
       "ZILKER    75000.0\n",
       "Name: load_weight, dtype: float64"
      ]
     },
     "execution_count": 18,
     "metadata": {},
     "output_type": "execute_result"
    }
   ],
   "source": [
    "df.groupby(['dropoff_site'])['load_weight'].max()"
   ]
  },
  {
   "cell_type": "code",
   "execution_count": 19,
   "metadata": {},
   "outputs": [
    {
     "data": {
      "text/plain": [
       "dropoff_site\n",
       "ELMONT    5480.0\n",
       "KRAMER    3980.0\n",
       "MRF         20.0\n",
       "WILCAB    2100.0\n",
       "ZILKER    1000.0\n",
       "Name: load_weight, dtype: float64"
      ]
     },
     "execution_count": 19,
     "metadata": {},
     "output_type": "execute_result"
    }
   ],
   "source": [
    "df.groupby(['dropoff_site'])['load_weight'].min()"
   ]
  },
  {
   "cell_type": "code",
   "execution_count": 20,
   "metadata": {},
   "outputs": [],
   "source": [
    "# save in case needed\n",
    "# df.groupby(['dropoff_site'])['load_weight'].max()\n"
   ]
  },
  {
   "cell_type": "markdown",
   "metadata": {},
   "source": [
    "As for mode, it is a bit hard to input it in the table since some of the site has multiple mode. The data below showing the load weight mode on every site. Some of the site such as ELMONT, KRAMER, and WILCAB only perform less than 10 diversion with the amount of load weight different in each unlike MRF and ZILKER proved by value counts. Both MRF and ZILKER perform several diversion (about 856 and 89456) which made them has mode."
   ]
  },
  {
   "cell_type": "code",
   "execution_count": 21,
   "metadata": {},
   "outputs": [
    {
     "data": {
      "text/plain": [
       "dropoff_site   \n",
       "ELMONT        0     5480.0\n",
       "              1    11720.0\n",
       "              2    12560.0\n",
       "              3    14900.0\n",
       "              4    31857.0\n",
       "KRAMER        0     3980.0\n",
       "              1    11400.0\n",
       "              2    19600.0\n",
       "MRF           0     3460.0\n",
       "WILCAB        0     2100.0\n",
       "              1     3780.0\n",
       "              2     6360.0\n",
       "              3     9880.0\n",
       "              4    10380.0\n",
       "              5    11800.0\n",
       "              6    13560.0\n",
       "              7    17280.0\n",
       "              8    24060.0\n",
       "ZILKER        0    15000.0\n",
       "Name: load_weight, dtype: float64"
      ]
     },
     "execution_count": 21,
     "metadata": {},
     "output_type": "execute_result"
    }
   ],
   "source": [
    "df.groupby('dropoff_site').load_weight.apply(lambda x: x.mode())"
   ]
  },
  {
   "cell_type": "markdown",
   "metadata": {},
   "source": [
    "Overall, the mode for load weight is 4000 but those result is not split yet between MRF and ZILKER. If we split them, the amount of 4000 load is only 156 and 283 competed with 286 (15000 load weight in ZILKER) and 352 (3460 load weight in MRF)."
   ]
  },
  {
   "cell_type": "code",
   "execution_count": 22,
   "metadata": {},
   "outputs": [
    {
     "data": {
      "text/plain": [
       "(157, 4)"
      ]
     },
     "execution_count": 22,
     "metadata": {},
     "output_type": "execute_result"
    }
   ],
   "source": [
    "df[(df['dropoff_site'] == 'ZILKER') & (df['load_weight'] == 4000)].shape"
   ]
  },
  {
   "cell_type": "code",
   "execution_count": 23,
   "metadata": {},
   "outputs": [
    {
     "data": {
      "text/plain": [
       "(284, 4)"
      ]
     },
     "execution_count": 23,
     "metadata": {},
     "output_type": "execute_result"
    }
   ],
   "source": [
    "df[(df['dropoff_site'] == 'MRF') & (df['load_weight'] == 4000)].shape"
   ]
  },
  {
   "cell_type": "code",
   "execution_count": 24,
   "metadata": {},
   "outputs": [
    {
     "data": {
      "text/plain": [
       "(287, 4)"
      ]
     },
     "execution_count": 24,
     "metadata": {},
     "output_type": "execute_result"
    }
   ],
   "source": [
    "df[(df['dropoff_site'] == 'ZILKER') & (df['load_weight'] == 15000)].shape"
   ]
  },
  {
   "cell_type": "code",
   "execution_count": 25,
   "metadata": {},
   "outputs": [
    {
     "data": {
      "text/html": [
       "<div>\n",
       "<style scoped>\n",
       "    .dataframe tbody tr th:only-of-type {\n",
       "        vertical-align: middle;\n",
       "    }\n",
       "\n",
       "    .dataframe tbody tr th {\n",
       "        vertical-align: top;\n",
       "    }\n",
       "\n",
       "    .dataframe thead th {\n",
       "        text-align: right;\n",
       "    }\n",
       "</style>\n",
       "<table border=\"1\" class=\"dataframe\">\n",
       "  <thead>\n",
       "    <tr style=\"text-align: right;\">\n",
       "      <th></th>\n",
       "      <th>load_time</th>\n",
       "      <th>load_type</th>\n",
       "      <th>load_weight</th>\n",
       "      <th>dropoff_site</th>\n",
       "    </tr>\n",
       "  </thead>\n",
       "  <tbody>\n",
       "    <tr>\n",
       "      <th>89937</th>\n",
       "      <td>2005-04-27 03:36:00+00:00</td>\n",
       "      <td>SWEEPING</td>\n",
       "      <td>5480.0</td>\n",
       "      <td>ELMONT</td>\n",
       "    </tr>\n",
       "    <tr>\n",
       "      <th>89938</th>\n",
       "      <td>2014-01-22 07:45:00+00:00</td>\n",
       "      <td>SWEEPING</td>\n",
       "      <td>11720.0</td>\n",
       "      <td>ELMONT</td>\n",
       "    </tr>\n",
       "    <tr>\n",
       "      <th>89940</th>\n",
       "      <td>2007-08-09 10:08:00+00:00</td>\n",
       "      <td>SWEEPING</td>\n",
       "      <td>12560.0</td>\n",
       "      <td>ELMONT</td>\n",
       "    </tr>\n",
       "    <tr>\n",
       "      <th>89941</th>\n",
       "      <td>2007-08-09 12:34:00+00:00</td>\n",
       "      <td>SWEEPING</td>\n",
       "      <td>14900.0</td>\n",
       "      <td>ELMONT</td>\n",
       "    </tr>\n",
       "    <tr>\n",
       "      <th>90084</th>\n",
       "      <td>2008-04-10 10:20:00+00:00</td>\n",
       "      <td>SWEEPING</td>\n",
       "      <td>31857.0</td>\n",
       "      <td>ELMONT</td>\n",
       "    </tr>\n",
       "  </tbody>\n",
       "</table>\n",
       "</div>"
      ],
      "text/plain": [
       "                      load_time load_type  load_weight dropoff_site\n",
       "89937 2005-04-27 03:36:00+00:00  SWEEPING       5480.0       ELMONT\n",
       "89938 2014-01-22 07:45:00+00:00  SWEEPING      11720.0       ELMONT\n",
       "89940 2007-08-09 10:08:00+00:00  SWEEPING      12560.0       ELMONT\n",
       "89941 2007-08-09 12:34:00+00:00  SWEEPING      14900.0       ELMONT\n",
       "90084 2008-04-10 10:20:00+00:00  SWEEPING      31857.0       ELMONT"
      ]
     },
     "execution_count": 25,
     "metadata": {},
     "output_type": "execute_result"
    }
   ],
   "source": [
    "df[(df['dropoff_site'] == 'ELMONT')].sort_values(by='load_weight', ascending = True)"
   ]
  },
  {
   "cell_type": "code",
   "execution_count": 26,
   "metadata": {},
   "outputs": [
    {
     "data": {
      "text/plain": [
       "(353, 4)"
      ]
     },
     "execution_count": 26,
     "metadata": {},
     "output_type": "execute_result"
    }
   ],
   "source": [
    "df[(df['dropoff_site'] == 'MRF') & (df['load_weight'] == 3460)].shape"
   ]
  },
  {
   "cell_type": "markdown",
   "metadata": {},
   "source": [
    "Those mode above only showing based on the load weight. As for the most load type in each site we can see from the data below"
   ]
  },
  {
   "cell_type": "code",
   "execution_count": 27,
   "metadata": {},
   "outputs": [
    {
     "data": {
      "text/plain": [
       "dropoff_site\n",
       "ELMONT             SWEEPING\n",
       "KRAMER             SWEEPING\n",
       "MRF       RECYCLING - PAPER\n",
       "WILCAB             SWEEPING\n",
       "ZILKER        YARD TRIMMING\n",
       "Name: load_type, dtype: object"
      ]
     },
     "execution_count": 27,
     "metadata": {},
     "output_type": "execute_result"
    }
   ],
   "source": [
    "df.groupby(['dropoff_site'])['load_type'].agg(pd.Series.mode)"
   ]
  },
  {
   "cell_type": "code",
   "execution_count": 28,
   "metadata": {},
   "outputs": [],
   "source": [
    "from matplotlib import pyplot as plt"
   ]
  },
  {
   "cell_type": "code",
   "execution_count": 29,
   "metadata": {},
   "outputs": [
    {
     "name": "stderr",
     "output_type": "stream",
     "text": [
      "/var/folders/qq/87th93m11rdgx4gf727_j6sm0000gn/T/ipykernel_3980/3900198779.py:1: FutureWarning: DataFrame.mean and DataFrame.median with numeric_only=None will include datetime64 and datetime64tz columns in a future version.\n",
      "  df[(df['dropoff_site'] == 'MRF')].mean()\n",
      "/var/folders/qq/87th93m11rdgx4gf727_j6sm0000gn/T/ipykernel_3980/3900198779.py:1: FutureWarning: Dropping of nuisance columns in DataFrame reductions (with 'numeric_only=None') is deprecated; in a future version this will raise TypeError.  Select only valid columns before calling the reduction.\n",
      "  df[(df['dropoff_site'] == 'MRF')].mean()\n"
     ]
    },
    {
     "data": {
      "text/plain": [
       "load_weight    5313.737893\n",
       "dtype: float64"
      ]
     },
     "execution_count": 29,
     "metadata": {},
     "output_type": "execute_result"
    }
   ],
   "source": [
    "df[(df['dropoff_site'] == 'MRF')].mean()"
   ]
  },
  {
   "cell_type": "code",
   "execution_count": 30,
   "metadata": {},
   "outputs": [
    {
     "data": {
      "image/png": "[encoded data removed]",
      "text/plain": [
       "<Figure size 1440x360 with 1 Axes>"
      ]
     },
     "metadata": {
      "needs_background": "light"
     },
     "output_type": "display_data"
    }
   ],
   "source": [
    "df_mmmmm =df['load_weight']\n",
    "df_mmmmm.plot.hist(title='Load Weight on MRF Site', color='lightblue', bins=1000, figsize=(20,5)) #there are 100 grouping \n",
    "#plt.axvline(df_mmmmm.mean(), color='magenta', linestyle='dashed', linewidth=2)\n",
    "#plt.axvline(df_mmmmm.median(), color='green', linestyle='dashed', linewidth=2)\n",
    "\n",
    "df_1 = df[(df['dropoff_site'] == 'ELMONT')]\n",
    "df_2 = df[(df['dropoff_site'] == 'KRAMER')]\n",
    "df_3 = df[(df['dropoff_site'] == 'MRF')]\n",
    "df_4 = df[(df['dropoff_site'] == 'WILCAB')]\n",
    "df_5 = df[(df['dropoff_site'] == 'ZILKER')]\n",
    "\n",
    "df_1_lw = df_1['load_weight']\n",
    "df_2_lw = df_2['load_weight']\n",
    "df_3_lw = df_3['load_weight']\n",
    "df_4_lw = df_4['load_weight']\n",
    "df_5_lw = df_5['load_weight']\n",
    "\n",
    "\n",
    "plt.axvline(df_1_lw.mean(), color='red', linestyle='dashed', linewidth=2)\n",
    "plt.axvline(df_2_lw.mean(), color='orange', linestyle='dashed', linewidth=2)\n",
    "plt.axvline(df_3_lw.mean(), color='yellow', linestyle='dashed', linewidth=2)\n",
    "plt.axvline(df_4_lw.mean(), color='blue', linestyle='dashed', linewidth=2)\n",
    "plt.axvline(df_5_lw.mean(), color='teal', linestyle='dashed', linewidth=2)\n",
    "plt.show()"
   ]
  },
  {
   "cell_type": "markdown",
   "metadata": {},
   "source": [
    "The diagram above visualizing the current data from load weight for overall site. the long tail looked invisible but actually there are extreme value (75000 load weight) at the right side. The min is 20, the max is 75000, the  mean is 5358.078, the median is 4280. The dashed line above showing the mean for each site from overall diagram."
   ]
  },
  {
   "cell_type": "markdown",
   "metadata": {},
   "source": [
    "`Currently we have 5 sites. The MRF has average of 5313.77 load weight in 2 decades while the largest is ELMONT with 15303. The highest the number doesn’t mean it is the problem because the only active right now is MRF. MRF has variety of load weight from only 20 to 2732. While the largest been dropping 5480 until 31857 but. only doing diversion for 5 times`"
   ]
  },
  {
   "cell_type": "markdown",
   "metadata": {},
   "source": [
    "#### 4. The choosen site to analyze and my reasons."
   ]
  },
  {
   "cell_type": "markdown",
   "metadata": {},
   "source": [
    "`The site I chose to analyze is MRF. The reason is the site has the most diversion among all sites with various type of load type. We should investigate why this MRF is so popular and are there any values that influence this situation.`"
   ]
  },
  {
   "cell_type": "markdown",
   "metadata": {},
   "source": [
    "#### 5. Using the selected site to check whether the load_weight data has outliers or not. \n",
    "Note : Using the right technique according to the distribution of the data. If so, what is the percentage of the number of outliers? and compare the central tendency of data that has outliers removed with those that have not (the result of calculation number 3).\n"
   ]
  },
  {
   "cell_type": "code",
   "execution_count": 31,
   "metadata": {},
   "outputs": [
    {
     "data": {
      "text/html": [
       "<div>\n",
       "<style scoped>\n",
       "    .dataframe tbody tr th:only-of-type {\n",
       "        vertical-align: middle;\n",
       "    }\n",
       "\n",
       "    .dataframe tbody tr th {\n",
       "        vertical-align: top;\n",
       "    }\n",
       "\n",
       "    .dataframe thead th {\n",
       "        text-align: right;\n",
       "    }\n",
       "</style>\n",
       "<table border=\"1\" class=\"dataframe\">\n",
       "  <thead>\n",
       "    <tr style=\"text-align: right;\">\n",
       "      <th></th>\n",
       "      <th>load_time</th>\n",
       "      <th>load_type</th>\n",
       "      <th>load_weight</th>\n",
       "      <th>dropoff_site</th>\n",
       "    </tr>\n",
       "  </thead>\n",
       "  <tbody>\n",
       "    <tr>\n",
       "      <th>0</th>\n",
       "      <td>2009-08-07 11:51:00+00:00</td>\n",
       "      <td>RECYCLING - SINGLE STREAM</td>\n",
       "      <td>4400.0</td>\n",
       "      <td>MRF</td>\n",
       "    </tr>\n",
       "    <tr>\n",
       "      <th>1</th>\n",
       "      <td>2008-04-11 12:31:00+00:00</td>\n",
       "      <td>RECYCLING - PAPER</td>\n",
       "      <td>1920.0</td>\n",
       "      <td>MRF</td>\n",
       "    </tr>\n",
       "    <tr>\n",
       "      <th>2</th>\n",
       "      <td>2009-01-16 12:58:00+00:00</td>\n",
       "      <td>RECYCLING - SINGLE STREAM</td>\n",
       "      <td>4140.0</td>\n",
       "      <td>MRF</td>\n",
       "    </tr>\n",
       "    <tr>\n",
       "      <th>3</th>\n",
       "      <td>2009-07-10 11:21:00+00:00</td>\n",
       "      <td>RECYCLING - SINGLE STREAM</td>\n",
       "      <td>4020.0</td>\n",
       "      <td>MRF</td>\n",
       "    </tr>\n",
       "    <tr>\n",
       "      <th>4</th>\n",
       "      <td>2006-02-03 12:36:00+00:00</td>\n",
       "      <td>RECYCLING - COMINGLE</td>\n",
       "      <td>1700.0</td>\n",
       "      <td>MRF</td>\n",
       "    </tr>\n",
       "    <tr>\n",
       "      <th>...</th>\n",
       "      <td>...</td>\n",
       "      <td>...</td>\n",
       "      <td>...</td>\n",
       "      <td>...</td>\n",
       "    </tr>\n",
       "    <tr>\n",
       "      <th>89620</th>\n",
       "      <td>2008-10-10 01:30:00+00:00</td>\n",
       "      <td>RECYCLING - COMINGLE</td>\n",
       "      <td>6700.0</td>\n",
       "      <td>MRF</td>\n",
       "    </tr>\n",
       "    <tr>\n",
       "      <th>89621</th>\n",
       "      <td>2020-12-21 11:38:00+00:00</td>\n",
       "      <td>TIRES</td>\n",
       "      <td>1000.0</td>\n",
       "      <td>MRF</td>\n",
       "    </tr>\n",
       "    <tr>\n",
       "      <th>89622</th>\n",
       "      <td>2020-12-23 11:59:00+00:00</td>\n",
       "      <td>TIRES</td>\n",
       "      <td>1220.0</td>\n",
       "      <td>MRF</td>\n",
       "    </tr>\n",
       "    <tr>\n",
       "      <th>89623</th>\n",
       "      <td>2021-03-20 08:35:00+00:00</td>\n",
       "      <td>TIRES</td>\n",
       "      <td>520.0</td>\n",
       "      <td>MRF</td>\n",
       "    </tr>\n",
       "    <tr>\n",
       "      <th>89624</th>\n",
       "      <td>2021-06-25 11:07:00+00:00</td>\n",
       "      <td>TIRES</td>\n",
       "      <td>1840.0</td>\n",
       "      <td>MRF</td>\n",
       "    </tr>\n",
       "  </tbody>\n",
       "</table>\n",
       "<p>89456 rows × 4 columns</p>\n",
       "</div>"
      ],
      "text/plain": [
       "                      load_time                  load_type  load_weight  \\\n",
       "0     2009-08-07 11:51:00+00:00  RECYCLING - SINGLE STREAM       4400.0   \n",
       "1     2008-04-11 12:31:00+00:00          RECYCLING - PAPER       1920.0   \n",
       "2     2009-01-16 12:58:00+00:00  RECYCLING - SINGLE STREAM       4140.0   \n",
       "3     2009-07-10 11:21:00+00:00  RECYCLING - SINGLE STREAM       4020.0   \n",
       "4     2006-02-03 12:36:00+00:00       RECYCLING - COMINGLE       1700.0   \n",
       "...                         ...                        ...          ...   \n",
       "89620 2008-10-10 01:30:00+00:00       RECYCLING - COMINGLE       6700.0   \n",
       "89621 2020-12-21 11:38:00+00:00                      TIRES       1000.0   \n",
       "89622 2020-12-23 11:59:00+00:00                      TIRES       1220.0   \n",
       "89623 2021-03-20 08:35:00+00:00                      TIRES        520.0   \n",
       "89624 2021-06-25 11:07:00+00:00                      TIRES       1840.0   \n",
       "\n",
       "      dropoff_site  \n",
       "0              MRF  \n",
       "1              MRF  \n",
       "2              MRF  \n",
       "3              MRF  \n",
       "4              MRF  \n",
       "...            ...  \n",
       "89620          MRF  \n",
       "89621          MRF  \n",
       "89622          MRF  \n",
       "89623          MRF  \n",
       "89624          MRF  \n",
       "\n",
       "[89456 rows x 4 columns]"
      ]
     },
     "execution_count": 31,
     "metadata": {},
     "output_type": "execute_result"
    }
   ],
   "source": [
    "csite_df = df[(df['dropoff_site'] == 'MRF')]\n",
    "csite_df"
   ]
  },
  {
   "cell_type": "markdown",
   "metadata": {},
   "source": [
    "Finding the median and mean to visualizing the load weight which distributed around it."
   ]
  },
  {
   "cell_type": "code",
   "execution_count": 32,
   "metadata": {},
   "outputs": [
    {
     "name": "stdout",
     "output_type": "stream",
     "text": [
      "Min: 20.0\n",
      "Mode: 3460.0\n",
      "Median: 4260.0\n",
      "Mean: 5313.737893489537\n",
      "Max: 27320.0\n"
     ]
    }
   ],
   "source": [
    "print ('Min: ' + str(csite_df['load_weight'].min()))\n",
    "print ('Mode: ' + str(csite_df['load_weight'].mode()[0]))\n",
    "print ('Median: ' + str(csite_df['load_weight'].median()))\n",
    "print ('Mean: ' + str(csite_df['load_weight'].mean()))\n",
    "print ('Max: ' + str(csite_df['load_weight'].max()))"
   ]
  },
  {
   "cell_type": "markdown",
   "metadata": {},
   "source": [
    "The plot below visualizing those min, mode, median, mean, and max."
   ]
  },
  {
   "cell_type": "code",
   "execution_count": 33,
   "metadata": {},
   "outputs": [
    {
     "data": {
      "image/png": "[encoded data removed]",
      "text/plain": [
       "<Figure size 432x288 with 1 Axes>"
      ]
     },
     "metadata": {
      "needs_background": "light"
     },
     "output_type": "display_data"
    }
   ],
   "source": [
    "csite_load_weight = csite_df['load_weight']\n",
    "csite_load_weight.plot.hist(title='Load Weight on MRF Site', color='lightblue', bins=100) #there are 100 grouping \n",
    "plt.axvline(csite_load_weight.mean(), color='magenta', linestyle='dashed', linewidth=2)\n",
    "plt.axvline(csite_load_weight.median(), color='green', linestyle='dashed', linewidth=2)\n",
    "plt.show()"
   ]
  },
  {
   "cell_type": "markdown",
   "metadata": {},
   "source": [
    "Based on the diagram we able to see the min, mean, median, mode, and max. There is skewness which make the diagram not symetrical. The data gathering at the left side of diagram, the mean is greater than median, and the tail heading to the right. It can be concluded the data is right skewed. For now median can be use to indicate the lower an upper limit if necessary. We need to calculate the skewness and Kurtosis to give the information about those skewness even we can figure it out on the diagram. "
   ]
  },
  {
   "cell_type": "code",
   "execution_count": 34,
   "metadata": {},
   "outputs": [
    {
     "name": "stdout",
     "output_type": "stream",
     "text": [
      "Skewness: 1.0031737648633852\n",
      "Kurtosis: 0.16775332641772112\n"
     ]
    }
   ],
   "source": [
    "print('Skewness: ' + str(csite_df['load_weight'].skew()))\n",
    "print('Kurtosis: ' + str(csite_df['load_weight'].kurt()))"
   ]
  },
  {
   "cell_type": "markdown",
   "metadata": {},
   "source": [
    " Since the larger the bin, the range of grouping getting shorter we choose 100. This 100 is just random number and hoping the visualization can still being understand. Below is the range of each bins and their frequency. B"
   ]
  },
  {
   "cell_type": "code",
   "execution_count": 35,
   "metadata": {},
   "outputs": [
    {
     "name": "stdout",
     "output_type": "stream",
     "text": [
      "Bins Border -  0 :  20.0  -  293.0 \t  Frequency :  500\n",
      "Bins Border -  1 :  293.0  -  566.0 \t  Frequency :  1255\n",
      "Bins Border -  2 :  566.0  -  839.0 \t  Frequency :  1722\n",
      "Bins Border -  3 :  839.0  -  1112.0 \t  Frequency :  2254\n",
      "Bins Border -  4 :  1112.0  -  1385.0 \t  Frequency :  2541\n",
      "Bins Border -  5 :  1385.0  -  1658.0 \t  Frequency :  2467\n",
      "Bins Border -  6 :  1658.0  -  1931.0 \t  Frequency :  2926\n",
      "Bins Border -  7 :  1931.0  -  2204.0 \t  Frequency :  3046\n",
      "Bins Border -  8 :  2204.0  -  2477.0 \t  Frequency :  2921\n",
      "Bins Border -  9 :  2477.0  -  2750.0 \t  Frequency :  3416\n",
      "Bins Border -  10 :  2750.0  -  3023.0 \t  Frequency :  3846\n",
      "Bins Border -  11 :  3023.0  -  3296.0 \t  Frequency :  3709\n",
      "Bins Border -  12 :  3296.0  -  3569.0 \t  Frequency :  4124\n",
      "Bins Border -  13 :  3569.0  -  3842.0 \t  Frequency :  4124\n",
      "Bins Border -  14 :  3842.0  -  4115.0 \t  Frequency :  3704\n",
      "Bins Border -  15 :  4115.0  -  4388.0 \t  Frequency :  3915\n",
      "Bins Border -  16 :  4388.0  -  4661.0 \t  Frequency :  3598\n",
      "Bins Border -  17 :  4661.0  -  4934.0 \t  Frequency :  2947\n",
      "Bins Border -  18 :  4934.0  -  5207.0 \t  Frequency :  2873\n",
      "Bins Border -  19 :  5207.0  -  5480.0 \t  Frequency :  2362\n",
      "Bins Border -  20 :  5480.0  -  5753.0 \t  Frequency :  2134\n",
      "Bins Border -  21 :  5753.0  -  6026.0 \t  Frequency :  1944\n",
      "Bins Border -  22 :  6026.0  -  6299.0 \t  Frequency :  1530\n",
      "Bins Border -  23 :  6299.0  -  6572.0 \t  Frequency :  1516\n",
      "Bins Border -  24 :  6572.0  -  6845.0 \t  Frequency :  1313\n",
      "Bins Border -  25 :  6845.0  -  7118.0 \t  Frequency :  1079\n",
      "Bins Border -  26 :  7118.0  -  7391.0 \t  Frequency :  1062\n",
      "Bins Border -  27 :  7391.0  -  7664.0 \t  Frequency :  990\n",
      "Bins Border -  28 :  7664.0  -  7937.0 \t  Frequency :  890\n",
      "Bins Border -  29 :  7937.0  -  8210.0 \t  Frequency :  825\n",
      "Bins Border -  30 :  8210.0  -  8483.0 \t  Frequency :  800\n",
      "Bins Border -  31 :  8483.0  -  8756.0 \t  Frequency :  635\n",
      "Bins Border -  32 :  8756.0  -  9029.0 \t  Frequency :  694\n",
      "Bins Border -  33 :  9029.0  -  9302.0 \t  Frequency :  593\n",
      "Bins Border -  34 :  9302.0  -  9575.0 \t  Frequency :  565\n",
      "Bins Border -  35 :  9575.0  -  9848.0 \t  Frequency :  655\n",
      "Bins Border -  36 :  9848.0  -  10121.0 \t  Frequency :  656\n",
      "Bins Border -  37 :  10121.0  -  10394.0 \t  Frequency :  611\n",
      "Bins Border -  38 :  10394.0  -  10667.0 \t  Frequency :  669\n",
      "Bins Border -  39 :  10667.0  -  10940.0 \t  Frequency :  738\n",
      "Bins Border -  40 :  10940.0  -  11213.0 \t  Frequency :  815\n",
      "Bins Border -  41 :  11213.0  -  11486.0 \t  Frequency :  898\n",
      "Bins Border -  42 :  11486.0  -  11759.0 \t  Frequency :  873\n",
      "Bins Border -  43 :  11759.0  -  12032.0 \t  Frequency :  922\n",
      "Bins Border -  44 :  12032.0  -  12305.0 \t  Frequency :  954\n",
      "Bins Border -  45 :  12305.0  -  12578.0 \t  Frequency :  950\n",
      "Bins Border -  46 :  12578.0  -  12851.0 \t  Frequency :  920\n",
      "Bins Border -  47 :  12851.0  -  13124.0 \t  Frequency :  911\n",
      "Bins Border -  48 :  13124.0  -  13397.0 \t  Frequency :  758\n",
      "Bins Border -  49 :  13397.0  -  13670.0 \t  Frequency :  676\n",
      "Bins Border -  50 :  13670.0  -  13943.0 \t  Frequency :  618\n",
      "Bins Border -  51 :  13943.0  -  14216.0 \t  Frequency :  501\n",
      "Bins Border -  52 :  14216.0  -  14489.0 \t  Frequency :  423\n",
      "Bins Border -  53 :  14489.0  -  14762.0 \t  Frequency :  309\n",
      "Bins Border -  54 :  14762.0  -  15035.0 \t  Frequency :  218\n",
      "Bins Border -  55 :  15035.0  -  15308.0 \t  Frequency :  175\n",
      "Bins Border -  56 :  15308.0  -  15581.0 \t  Frequency :  109\n",
      "Bins Border -  57 :  15581.0  -  15854.0 \t  Frequency :  77\n",
      "Bins Border -  58 :  15854.0  -  16127.0 \t  Frequency :  66\n",
      "Bins Border -  59 :  16127.0  -  16400.0 \t  Frequency :  41\n",
      "Bins Border -  60 :  16400.0  -  16673.0 \t  Frequency :  25\n",
      "Bins Border -  61 :  16673.0  -  16946.0 \t  Frequency :  16\n",
      "Bins Border -  62 :  16946.0  -  17219.0 \t  Frequency :  11\n",
      "Bins Border -  63 :  17219.0  -  17492.0 \t  Frequency :  7\n",
      "Bins Border -  64 :  17492.0  -  17765.0 \t  Frequency :  7\n",
      "Bins Border -  65 :  17765.0  -  18038.0 \t  Frequency :  2\n",
      "Bins Border -  66 :  18038.0  -  18311.0 \t  Frequency :  3\n",
      "Bins Border -  67 :  18311.0  -  18584.0 \t  Frequency :  1\n",
      "Bins Border -  68 :  18584.0  -  18857.0 \t  Frequency :  2\n",
      "Bins Border -  69 :  18857.0  -  19130.0 \t  Frequency :  1\n",
      "Bins Border -  70 :  19130.0  -  19403.0 \t  Frequency :  3\n",
      "Bins Border -  71 :  19403.0  -  19676.0 \t  Frequency :  2\n",
      "Bins Border -  72 :  19676.0  -  19949.0 \t  Frequency :  0\n",
      "Bins Border -  73 :  19949.0  -  20222.0 \t  Frequency :  1\n",
      "Bins Border -  74 :  20222.0  -  20495.0 \t  Frequency :  0\n",
      "Bins Border -  75 :  20495.0  -  20768.0 \t  Frequency :  1\n",
      "Bins Border -  76 :  20768.0  -  21041.0 \t  Frequency :  0\n",
      "Bins Border -  77 :  21041.0  -  21314.0 \t  Frequency :  1\n",
      "Bins Border -  78 :  21314.0  -  21587.0 \t  Frequency :  0\n",
      "Bins Border -  79 :  21587.0  -  21860.0 \t  Frequency :  0\n",
      "Bins Border -  80 :  21860.0  -  22133.0 \t  Frequency :  0\n",
      "Bins Border -  81 :  22133.0  -  22406.0 \t  Frequency :  0\n",
      "Bins Border -  82 :  22406.0  -  22679.0 \t  Frequency :  0\n",
      "Bins Border -  83 :  22679.0  -  22952.0 \t  Frequency :  1\n",
      "Bins Border -  84 :  22952.0  -  23225.0 \t  Frequency :  0\n",
      "Bins Border -  85 :  23225.0  -  23498.0 \t  Frequency :  0\n",
      "Bins Border -  86 :  23498.0  -  23771.0 \t  Frequency :  2\n",
      "Bins Border -  87 :  23771.0  -  24044.0 \t  Frequency :  0\n",
      "Bins Border -  88 :  24044.0  -  24317.0 \t  Frequency :  0\n",
      "Bins Border -  89 :  24317.0  -  24590.0 \t  Frequency :  2\n",
      "Bins Border -  90 :  24590.0  -  24863.0 \t  Frequency :  1\n",
      "Bins Border -  91 :  24863.0  -  25136.0 \t  Frequency :  1\n",
      "Bins Border -  92 :  25136.0  -  25409.0 \t  Frequency :  0\n",
      "Bins Border -  93 :  25409.0  -  25682.0 \t  Frequency :  0\n",
      "Bins Border -  94 :  25682.0  -  25955.0 \t  Frequency :  0\n",
      "Bins Border -  95 :  25955.0  -  26228.0 \t  Frequency :  1\n",
      "Bins Border -  96 :  26228.0  -  26501.0 \t  Frequency :  0\n",
      "Bins Border -  97 :  26501.0  -  26774.0 \t  Frequency :  0\n",
      "Bins Border -  98 :  26774.0  -  27047.0 \t  Frequency :  1\n",
      "Bins Border -  99 :  27047.0  -  27320.0 \t  Frequency :  1\n"
     ]
    }
   ],
   "source": [
    "n, bins = np.histogram(csite_load_weight, bins=100)\n",
    "for ii in range(0, len(n)):\n",
    "    print('Bins Border - ' , ii, ': ', bins[ii], ' - ', bins[ii+1], '\\t', ' Frequency : ', n[ii])"
   ]
  },
  {
   "cell_type": "markdown",
   "metadata": {},
   "source": [
    "Because of thousand of datas, we cannot see if there are any outlier clearly. To resolve this, we can change the plot kind from 'bar' into 'box'. Here are the results"
   ]
  },
  {
   "cell_type": "code",
   "execution_count": 36,
   "metadata": {},
   "outputs": [
    {
     "data": {
      "image/png": "[encoded data removed]",
      "text/plain": [
       "<Figure size 432x360 with 1 Axes>"
      ]
     },
     "metadata": {
      "needs_background": "light"
     },
     "output_type": "display_data"
    }
   ],
   "source": [
    "csite_df['load_weight'].plot(kind='box', title='MRF load-weight from 2000 - 2021', figsize=(6,5))\n",
    "plt.show()"
   ]
  },
  {
   "cell_type": "code",
   "execution_count": 37,
   "metadata": {},
   "outputs": [],
   "source": [
    " csite_skewness = str(csite_df['load_weight'].skew())"
   ]
  },
  {
   "cell_type": "markdown",
   "metadata": {},
   "source": [
    "`There are a lot of outlier inside the data. Previously we already figured the skewness of the data. Soon we will censor the data to getting rid of outliers value. We obtained the skewness = `1.0031737648633852` (greater than 1) means the data are highly skewed.`"
   ]
  },
  {
   "cell_type": "markdown",
   "metadata": {},
   "source": [
    "It seems there are no lower outlier detected so the lower boundary calculation is ignored. To calculate the IQR and Upper boundaries:"
   ]
  },
  {
   "cell_type": "code",
   "execution_count": 38,
   "metadata": {},
   "outputs": [
    {
     "name": "stdout",
     "output_type": "stream",
     "text": [
      "The IQR is :  4240.0\n"
     ]
    }
   ],
   "source": [
    "csite_q3, csite_q1 = np.percentile(csite_df['load_weight'], [75 ,25])\n",
    "csite_iqr = csite_q3 - csite_q1\n",
    "print('The IQR is : ', csite_iqr)"
   ]
  },
  {
   "cell_type": "code",
   "execution_count": 39,
   "metadata": {},
   "outputs": [
    {
     "name": "stdout",
     "output_type": "stream",
     "text": [
      "The Upper Boundaries :  13300.0\n"
     ]
    }
   ],
   "source": [
    "max_csite_iqr = csite_q3 + 1.5 * csite_iqr\n",
    "print('The Upper Boundaries : ', max_csite_iqr)"
   ]
  },
  {
   "cell_type": "code",
   "execution_count": 40,
   "metadata": {},
   "outputs": [],
   "source": [
    "#in case needed for the lower\n",
    "#min_csite_iqr = csite_q1 - 1.5 * csite_iqr"
   ]
  },
  {
   "cell_type": "markdown",
   "metadata": {},
   "source": [
    "Because the upper boundaries is calculated, we can change the value which have the value more than `13300.0`. For further process, drop all of the outlier value with Upper Boundaries."
   ]
  },
  {
   "cell_type": "code",
   "execution_count": 41,
   "metadata": {},
   "outputs": [
    {
     "data": {
      "text/html": [
       "<div>\n",
       "<style scoped>\n",
       "    .dataframe tbody tr th:only-of-type {\n",
       "        vertical-align: middle;\n",
       "    }\n",
       "\n",
       "    .dataframe tbody tr th {\n",
       "        vertical-align: top;\n",
       "    }\n",
       "\n",
       "    .dataframe thead th {\n",
       "        text-align: right;\n",
       "    }\n",
       "</style>\n",
       "<table border=\"1\" class=\"dataframe\">\n",
       "  <thead>\n",
       "    <tr style=\"text-align: right;\">\n",
       "      <th></th>\n",
       "      <th>load_time</th>\n",
       "      <th>load_type</th>\n",
       "      <th>load_weight</th>\n",
       "      <th>dropoff_site</th>\n",
       "    </tr>\n",
       "  </thead>\n",
       "  <tbody>\n",
       "    <tr>\n",
       "      <th>9729</th>\n",
       "      <td>2019-01-18 02:01:00+00:00</td>\n",
       "      <td>TIRES</td>\n",
       "      <td>20.0</td>\n",
       "      <td>MRF</td>\n",
       "    </tr>\n",
       "    <tr>\n",
       "      <th>48210</th>\n",
       "      <td>2006-09-19 06:37:00+00:00</td>\n",
       "      <td>RECYCLING - PAPER</td>\n",
       "      <td>20.0</td>\n",
       "      <td>MRF</td>\n",
       "    </tr>\n",
       "    <tr>\n",
       "      <th>48965</th>\n",
       "      <td>2005-11-15 01:18:00+00:00</td>\n",
       "      <td>RECYCLING - PAPER</td>\n",
       "      <td>20.0</td>\n",
       "      <td>MRF</td>\n",
       "    </tr>\n",
       "    <tr>\n",
       "      <th>36857</th>\n",
       "      <td>2006-09-04 01:39:00+00:00</td>\n",
       "      <td>RECYCLING - COMINGLE</td>\n",
       "      <td>20.0</td>\n",
       "      <td>MRF</td>\n",
       "    </tr>\n",
       "    <tr>\n",
       "      <th>20822</th>\n",
       "      <td>2005-08-05 03:29:00+00:00</td>\n",
       "      <td>RECYCLING - PAPER</td>\n",
       "      <td>20.0</td>\n",
       "      <td>MRF</td>\n",
       "    </tr>\n",
       "    <tr>\n",
       "      <th>...</th>\n",
       "      <td>...</td>\n",
       "      <td>...</td>\n",
       "      <td>...</td>\n",
       "      <td>...</td>\n",
       "    </tr>\n",
       "    <tr>\n",
       "      <th>89606</th>\n",
       "      <td>2006-01-11 02:34:00+00:00</td>\n",
       "      <td>RECYCLED METAL</td>\n",
       "      <td>24680.0</td>\n",
       "      <td>MRF</td>\n",
       "    </tr>\n",
       "    <tr>\n",
       "      <th>89597</th>\n",
       "      <td>2006-01-10 09:14:00+00:00</td>\n",
       "      <td>RECYCLED METAL</td>\n",
       "      <td>25100.0</td>\n",
       "      <td>MRF</td>\n",
       "    </tr>\n",
       "    <tr>\n",
       "      <th>89548</th>\n",
       "      <td>2006-01-10 11:04:00+00:00</td>\n",
       "      <td>RECYCLED METAL</td>\n",
       "      <td>26000.0</td>\n",
       "      <td>MRF</td>\n",
       "    </tr>\n",
       "    <tr>\n",
       "      <th>89608</th>\n",
       "      <td>2006-01-10 02:30:00+00:00</td>\n",
       "      <td>RECYCLED METAL</td>\n",
       "      <td>26860.0</td>\n",
       "      <td>MRF</td>\n",
       "    </tr>\n",
       "    <tr>\n",
       "      <th>89538</th>\n",
       "      <td>2006-01-10 01:13:00+00:00</td>\n",
       "      <td>RECYCLED METAL</td>\n",
       "      <td>27320.0</td>\n",
       "      <td>MRF</td>\n",
       "    </tr>\n",
       "  </tbody>\n",
       "</table>\n",
       "<p>89456 rows × 4 columns</p>\n",
       "</div>"
      ],
      "text/plain": [
       "                      load_time             load_type  load_weight  \\\n",
       "9729  2019-01-18 02:01:00+00:00                 TIRES         20.0   \n",
       "48210 2006-09-19 06:37:00+00:00     RECYCLING - PAPER         20.0   \n",
       "48965 2005-11-15 01:18:00+00:00     RECYCLING - PAPER         20.0   \n",
       "36857 2006-09-04 01:39:00+00:00  RECYCLING - COMINGLE         20.0   \n",
       "20822 2005-08-05 03:29:00+00:00     RECYCLING - PAPER         20.0   \n",
       "...                         ...                   ...          ...   \n",
       "89606 2006-01-11 02:34:00+00:00        RECYCLED METAL      24680.0   \n",
       "89597 2006-01-10 09:14:00+00:00        RECYCLED METAL      25100.0   \n",
       "89548 2006-01-10 11:04:00+00:00        RECYCLED METAL      26000.0   \n",
       "89608 2006-01-10 02:30:00+00:00        RECYCLED METAL      26860.0   \n",
       "89538 2006-01-10 01:13:00+00:00        RECYCLED METAL      27320.0   \n",
       "\n",
       "      dropoff_site  \n",
       "9729           MRF  \n",
       "48210          MRF  \n",
       "48965          MRF  \n",
       "36857          MRF  \n",
       "20822          MRF  \n",
       "...            ...  \n",
       "89606          MRF  \n",
       "89597          MRF  \n",
       "89548          MRF  \n",
       "89608          MRF  \n",
       "89538          MRF  \n",
       "\n",
       "[89456 rows x 4 columns]"
      ]
     },
     "execution_count": 41,
     "metadata": {},
     "output_type": "execute_result"
    }
   ],
   "source": [
    "csite_df.sort_values(by='load_weight', ascending=True)"
   ]
  },
  {
   "cell_type": "code",
   "execution_count": 42,
   "metadata": {},
   "outputs": [],
   "source": [
    "sorted_csite_df = csite_df.sort_values(by='load_weight', ascending=True)"
   ]
  },
  {
   "cell_type": "markdown",
   "metadata": {},
   "source": [
    "Try to trim the outliers by dropping the certain rows which has load weight more than upper boundaries values."
   ]
  },
  {
   "cell_type": "code",
   "execution_count": 43,
   "metadata": {},
   "outputs": [],
   "source": [
    "sorted_csite_df.drop(sorted_csite_df[sorted_csite_df['load_weight'] > max_csite_iqr].index, inplace = True)"
   ]
  },
  {
   "cell_type": "code",
   "execution_count": 44,
   "metadata": {},
   "outputs": [],
   "source": [
    "#Try to censor the outliers by replace the certain rows which has load weight values more than upper boundaries with those upper boundaries values.\n",
    "#sorted_csite_df.loc[sorted_csite_df.load_weight > max_csite_iqr, 'load_weight'] = max_csite_iqr"
   ]
  },
  {
   "cell_type": "markdown",
   "metadata": {},
   "source": [
    "These are the result of the data which have been updated."
   ]
  },
  {
   "cell_type": "code",
   "execution_count": 45,
   "metadata": {},
   "outputs": [
    {
     "data": {
      "text/html": [
       "<div>\n",
       "<style scoped>\n",
       "    .dataframe tbody tr th:only-of-type {\n",
       "        vertical-align: middle;\n",
       "    }\n",
       "\n",
       "    .dataframe tbody tr th {\n",
       "        vertical-align: top;\n",
       "    }\n",
       "\n",
       "    .dataframe thead th {\n",
       "        text-align: right;\n",
       "    }\n",
       "</style>\n",
       "<table border=\"1\" class=\"dataframe\">\n",
       "  <thead>\n",
       "    <tr style=\"text-align: right;\">\n",
       "      <th></th>\n",
       "      <th>load_time</th>\n",
       "      <th>load_type</th>\n",
       "      <th>load_weight</th>\n",
       "      <th>dropoff_site</th>\n",
       "    </tr>\n",
       "  </thead>\n",
       "  <tbody>\n",
       "    <tr>\n",
       "      <th>9729</th>\n",
       "      <td>2019-01-18 02:01:00+00:00</td>\n",
       "      <td>TIRES</td>\n",
       "      <td>20.0</td>\n",
       "      <td>MRF</td>\n",
       "    </tr>\n",
       "    <tr>\n",
       "      <th>48210</th>\n",
       "      <td>2006-09-19 06:37:00+00:00</td>\n",
       "      <td>RECYCLING - PAPER</td>\n",
       "      <td>20.0</td>\n",
       "      <td>MRF</td>\n",
       "    </tr>\n",
       "    <tr>\n",
       "      <th>48965</th>\n",
       "      <td>2005-11-15 01:18:00+00:00</td>\n",
       "      <td>RECYCLING - PAPER</td>\n",
       "      <td>20.0</td>\n",
       "      <td>MRF</td>\n",
       "    </tr>\n",
       "    <tr>\n",
       "      <th>36857</th>\n",
       "      <td>2006-09-04 01:39:00+00:00</td>\n",
       "      <td>RECYCLING - COMINGLE</td>\n",
       "      <td>20.0</td>\n",
       "      <td>MRF</td>\n",
       "    </tr>\n",
       "    <tr>\n",
       "      <th>20822</th>\n",
       "      <td>2005-08-05 03:29:00+00:00</td>\n",
       "      <td>RECYCLING - PAPER</td>\n",
       "      <td>20.0</td>\n",
       "      <td>MRF</td>\n",
       "    </tr>\n",
       "    <tr>\n",
       "      <th>...</th>\n",
       "      <td>...</td>\n",
       "      <td>...</td>\n",
       "      <td>...</td>\n",
       "      <td>...</td>\n",
       "    </tr>\n",
       "    <tr>\n",
       "      <th>84170</th>\n",
       "      <td>2010-09-07 11:01:00+00:00</td>\n",
       "      <td>RECYCLING - SINGLE STREAM</td>\n",
       "      <td>13300.0</td>\n",
       "      <td>MRF</td>\n",
       "    </tr>\n",
       "    <tr>\n",
       "      <th>71578</th>\n",
       "      <td>2009-09-25 10:50:00+00:00</td>\n",
       "      <td>RECYCLING - SINGLE STREAM</td>\n",
       "      <td>13300.0</td>\n",
       "      <td>MRF</td>\n",
       "    </tr>\n",
       "    <tr>\n",
       "      <th>72485</th>\n",
       "      <td>2009-10-01 10:45:00+00:00</td>\n",
       "      <td>RECYCLING - SINGLE STREAM</td>\n",
       "      <td>13300.0</td>\n",
       "      <td>MRF</td>\n",
       "    </tr>\n",
       "    <tr>\n",
       "      <th>69035</th>\n",
       "      <td>2010-10-15 10:22:00+00:00</td>\n",
       "      <td>RECYCLING - SINGLE STREAM</td>\n",
       "      <td>13300.0</td>\n",
       "      <td>MRF</td>\n",
       "    </tr>\n",
       "    <tr>\n",
       "      <th>72833</th>\n",
       "      <td>2010-06-10 02:21:00+00:00</td>\n",
       "      <td>RECYCLING - SINGLE STREAM</td>\n",
       "      <td>13300.0</td>\n",
       "      <td>MRF</td>\n",
       "    </tr>\n",
       "  </tbody>\n",
       "</table>\n",
       "<p>85928 rows × 4 columns</p>\n",
       "</div>"
      ],
      "text/plain": [
       "                      load_time                  load_type  load_weight  \\\n",
       "9729  2019-01-18 02:01:00+00:00                      TIRES         20.0   \n",
       "48210 2006-09-19 06:37:00+00:00          RECYCLING - PAPER         20.0   \n",
       "48965 2005-11-15 01:18:00+00:00          RECYCLING - PAPER         20.0   \n",
       "36857 2006-09-04 01:39:00+00:00       RECYCLING - COMINGLE         20.0   \n",
       "20822 2005-08-05 03:29:00+00:00          RECYCLING - PAPER         20.0   \n",
       "...                         ...                        ...          ...   \n",
       "84170 2010-09-07 11:01:00+00:00  RECYCLING - SINGLE STREAM      13300.0   \n",
       "71578 2009-09-25 10:50:00+00:00  RECYCLING - SINGLE STREAM      13300.0   \n",
       "72485 2009-10-01 10:45:00+00:00  RECYCLING - SINGLE STREAM      13300.0   \n",
       "69035 2010-10-15 10:22:00+00:00  RECYCLING - SINGLE STREAM      13300.0   \n",
       "72833 2010-06-10 02:21:00+00:00  RECYCLING - SINGLE STREAM      13300.0   \n",
       "\n",
       "      dropoff_site  \n",
       "9729           MRF  \n",
       "48210          MRF  \n",
       "48965          MRF  \n",
       "36857          MRF  \n",
       "20822          MRF  \n",
       "...            ...  \n",
       "84170          MRF  \n",
       "71578          MRF  \n",
       "72485          MRF  \n",
       "69035          MRF  \n",
       "72833          MRF  \n",
       "\n",
       "[85928 rows x 4 columns]"
      ]
     },
     "execution_count": 45,
     "metadata": {},
     "output_type": "execute_result"
    }
   ],
   "source": [
    "sorted_csite_df"
   ]
  },
  {
   "cell_type": "markdown",
   "metadata": {},
   "source": [
    "Next, visualize it to recognize whether any outlier from the updated data."
   ]
  },
  {
   "cell_type": "code",
   "execution_count": 46,
   "metadata": {},
   "outputs": [
    {
     "data": {
      "image/png": "[encoded data removed]",
      "text/plain": [
       "<Figure size 432x360 with 1 Axes>"
      ]
     },
     "metadata": {
      "needs_background": "light"
     },
     "output_type": "display_data"
    }
   ],
   "source": [
    "sorted_csite_df['load_weight'].plot(kind='box', title='MRF load-weight from 2000 - 2021', figsize=(6,5))\n",
    "plt.show()"
   ]
  },
  {
   "cell_type": "code",
   "execution_count": 47,
   "metadata": {},
   "outputs": [
    {
     "data": {
      "image/png": "[encoded data removed]",
      "text/plain": [
       "<Figure size 432x288 with 1 Axes>"
      ]
     },
     "metadata": {
      "needs_background": "light"
     },
     "output_type": "display_data"
    }
   ],
   "source": [
    "csites_load_weight = sorted_csite_df['load_weight']\n",
    "csites_load_weight.plot.hist(title='Load Weight on MRF Site', color='lightblue', bins=100) #there are 100 grouping \n",
    "plt.axvline(csites_load_weight.mean(), color='magenta', linestyle='dashed', linewidth=2)\n",
    "plt.axvline(csites_load_weight.median(), color='green', linestyle='dashed', linewidth=2)\n",
    "plt.show()"
   ]
  },
  {
   "cell_type": "markdown",
   "metadata": {},
   "source": [
    "Apparently there are still outlier from boxtool diagram and a  lot extreme data still remain. it caused by the outliner values has been changed to upper boundaries which caused the frequency of that values also canged. Others change which affected data iare shown from desciption below."
   ]
  },
  {
   "cell_type": "code",
   "execution_count": 48,
   "metadata": {},
   "outputs": [
    {
     "data": {
      "text/html": [
       "<div>\n",
       "<style scoped>\n",
       "    .dataframe tbody tr th:only-of-type {\n",
       "        vertical-align: middle;\n",
       "    }\n",
       "\n",
       "    .dataframe tbody tr th {\n",
       "        vertical-align: top;\n",
       "    }\n",
       "\n",
       "    .dataframe thead th {\n",
       "        text-align: right;\n",
       "    }\n",
       "</style>\n",
       "<table border=\"1\" class=\"dataframe\">\n",
       "  <thead>\n",
       "    <tr style=\"text-align: right;\">\n",
       "      <th></th>\n",
       "      <th>load_weight</th>\n",
       "    </tr>\n",
       "  </thead>\n",
       "  <tbody>\n",
       "    <tr>\n",
       "      <th>count</th>\n",
       "      <td>85928.000000</td>\n",
       "    </tr>\n",
       "    <tr>\n",
       "      <th>mean</th>\n",
       "      <td>4944.448457</td>\n",
       "    </tr>\n",
       "    <tr>\n",
       "      <th>std</th>\n",
       "      <td>3245.876093</td>\n",
       "    </tr>\n",
       "    <tr>\n",
       "      <th>min</th>\n",
       "      <td>20.000000</td>\n",
       "    </tr>\n",
       "    <tr>\n",
       "      <th>25%</th>\n",
       "      <td>2620.000000</td>\n",
       "    </tr>\n",
       "    <tr>\n",
       "      <th>50%</th>\n",
       "      <td>4140.000000</td>\n",
       "    </tr>\n",
       "    <tr>\n",
       "      <th>75%</th>\n",
       "      <td>6400.000000</td>\n",
       "    </tr>\n",
       "    <tr>\n",
       "      <th>max</th>\n",
       "      <td>13300.000000</td>\n",
       "    </tr>\n",
       "  </tbody>\n",
       "</table>\n",
       "</div>"
      ],
      "text/plain": [
       "        load_weight\n",
       "count  85928.000000\n",
       "mean    4944.448457\n",
       "std     3245.876093\n",
       "min       20.000000\n",
       "25%     2620.000000\n",
       "50%     4140.000000\n",
       "75%     6400.000000\n",
       "max    13300.000000"
      ]
     },
     "execution_count": 48,
     "metadata": {},
     "output_type": "execute_result"
    }
   ],
   "source": [
    "sorted_csite_df.describe()"
   ]
  },
  {
   "cell_type": "code",
   "execution_count": 49,
   "metadata": {},
   "outputs": [
    {
     "data": {
      "text/html": [
       "<div>\n",
       "<style scoped>\n",
       "    .dataframe tbody tr th:only-of-type {\n",
       "        vertical-align: middle;\n",
       "    }\n",
       "\n",
       "    .dataframe tbody tr th {\n",
       "        vertical-align: top;\n",
       "    }\n",
       "\n",
       "    .dataframe thead th {\n",
       "        text-align: right;\n",
       "    }\n",
       "</style>\n",
       "<table border=\"1\" class=\"dataframe\">\n",
       "  <thead>\n",
       "    <tr style=\"text-align: right;\">\n",
       "      <th></th>\n",
       "      <th>load_weight</th>\n",
       "    </tr>\n",
       "  </thead>\n",
       "  <tbody>\n",
       "    <tr>\n",
       "      <th>count</th>\n",
       "      <td>90129.000000</td>\n",
       "    </tr>\n",
       "    <tr>\n",
       "      <th>mean</th>\n",
       "      <td>5358.078654</td>\n",
       "    </tr>\n",
       "    <tr>\n",
       "      <th>std</th>\n",
       "      <td>3727.742388</td>\n",
       "    </tr>\n",
       "    <tr>\n",
       "      <th>min</th>\n",
       "      <td>20.000000</td>\n",
       "    </tr>\n",
       "    <tr>\n",
       "      <th>25%</th>\n",
       "      <td>2720.000000</td>\n",
       "    </tr>\n",
       "    <tr>\n",
       "      <th>50%</th>\n",
       "      <td>4280.000000</td>\n",
       "    </tr>\n",
       "    <tr>\n",
       "      <th>75%</th>\n",
       "      <td>7020.000000</td>\n",
       "    </tr>\n",
       "    <tr>\n",
       "      <th>max</th>\n",
       "      <td>75000.000000</td>\n",
       "    </tr>\n",
       "  </tbody>\n",
       "</table>\n",
       "</div>"
      ],
      "text/plain": [
       "        load_weight\n",
       "count  90129.000000\n",
       "mean    5358.078654\n",
       "std     3727.742388\n",
       "min       20.000000\n",
       "25%     2720.000000\n",
       "50%     4280.000000\n",
       "75%     7020.000000\n",
       "max    75000.000000"
      ]
     },
     "execution_count": 49,
     "metadata": {},
     "output_type": "execute_result"
    }
   ],
   "source": [
    "df.describe()"
   ]
  },
  {
   "cell_type": "markdown",
   "metadata": {},
   "source": [
    "`After we comparing the Central Tendency, all of the value except the max has been change. It is because the number of data has been change and the maximun value also change. This is the effect of using trimming to resolved the outlier.`"
   ]
  },
  {
   "cell_type": "markdown",
   "metadata": {},
   "source": [
    "#### 6. Using the selected site to calculate the range, variance, and standard deviation for the load_weight data.\n",
    "Note : Provide insight from the results of your calculations to the city government (Make sure the data used is data that has been cleaned of outliers)."
   ]
  },
  {
   "cell_type": "code",
   "execution_count": 50,
   "metadata": {},
   "outputs": [
    {
     "data": {
      "text/html": [
       "<div>\n",
       "<style scoped>\n",
       "    .dataframe tbody tr th:only-of-type {\n",
       "        vertical-align: middle;\n",
       "    }\n",
       "\n",
       "    .dataframe tbody tr th {\n",
       "        vertical-align: top;\n",
       "    }\n",
       "\n",
       "    .dataframe thead th {\n",
       "        text-align: right;\n",
       "    }\n",
       "</style>\n",
       "<table border=\"1\" class=\"dataframe\">\n",
       "  <thead>\n",
       "    <tr style=\"text-align: right;\">\n",
       "      <th></th>\n",
       "      <th>load_time</th>\n",
       "      <th>load_type</th>\n",
       "      <th>load_weight</th>\n",
       "      <th>dropoff_site</th>\n",
       "    </tr>\n",
       "  </thead>\n",
       "  <tbody>\n",
       "    <tr>\n",
       "      <th>9729</th>\n",
       "      <td>2019-01-18 02:01:00+00:00</td>\n",
       "      <td>TIRES</td>\n",
       "      <td>20.0</td>\n",
       "      <td>MRF</td>\n",
       "    </tr>\n",
       "    <tr>\n",
       "      <th>48210</th>\n",
       "      <td>2006-09-19 06:37:00+00:00</td>\n",
       "      <td>RECYCLING - PAPER</td>\n",
       "      <td>20.0</td>\n",
       "      <td>MRF</td>\n",
       "    </tr>\n",
       "    <tr>\n",
       "      <th>48965</th>\n",
       "      <td>2005-11-15 01:18:00+00:00</td>\n",
       "      <td>RECYCLING - PAPER</td>\n",
       "      <td>20.0</td>\n",
       "      <td>MRF</td>\n",
       "    </tr>\n",
       "    <tr>\n",
       "      <th>36857</th>\n",
       "      <td>2006-09-04 01:39:00+00:00</td>\n",
       "      <td>RECYCLING - COMINGLE</td>\n",
       "      <td>20.0</td>\n",
       "      <td>MRF</td>\n",
       "    </tr>\n",
       "    <tr>\n",
       "      <th>20822</th>\n",
       "      <td>2005-08-05 03:29:00+00:00</td>\n",
       "      <td>RECYCLING - PAPER</td>\n",
       "      <td>20.0</td>\n",
       "      <td>MRF</td>\n",
       "    </tr>\n",
       "    <tr>\n",
       "      <th>...</th>\n",
       "      <td>...</td>\n",
       "      <td>...</td>\n",
       "      <td>...</td>\n",
       "      <td>...</td>\n",
       "    </tr>\n",
       "    <tr>\n",
       "      <th>84170</th>\n",
       "      <td>2010-09-07 11:01:00+00:00</td>\n",
       "      <td>RECYCLING - SINGLE STREAM</td>\n",
       "      <td>13300.0</td>\n",
       "      <td>MRF</td>\n",
       "    </tr>\n",
       "    <tr>\n",
       "      <th>71578</th>\n",
       "      <td>2009-09-25 10:50:00+00:00</td>\n",
       "      <td>RECYCLING - SINGLE STREAM</td>\n",
       "      <td>13300.0</td>\n",
       "      <td>MRF</td>\n",
       "    </tr>\n",
       "    <tr>\n",
       "      <th>72485</th>\n",
       "      <td>2009-10-01 10:45:00+00:00</td>\n",
       "      <td>RECYCLING - SINGLE STREAM</td>\n",
       "      <td>13300.0</td>\n",
       "      <td>MRF</td>\n",
       "    </tr>\n",
       "    <tr>\n",
       "      <th>69035</th>\n",
       "      <td>2010-10-15 10:22:00+00:00</td>\n",
       "      <td>RECYCLING - SINGLE STREAM</td>\n",
       "      <td>13300.0</td>\n",
       "      <td>MRF</td>\n",
       "    </tr>\n",
       "    <tr>\n",
       "      <th>72833</th>\n",
       "      <td>2010-06-10 02:21:00+00:00</td>\n",
       "      <td>RECYCLING - SINGLE STREAM</td>\n",
       "      <td>13300.0</td>\n",
       "      <td>MRF</td>\n",
       "    </tr>\n",
       "  </tbody>\n",
       "</table>\n",
       "<p>85928 rows × 4 columns</p>\n",
       "</div>"
      ],
      "text/plain": [
       "                      load_time                  load_type  load_weight  \\\n",
       "9729  2019-01-18 02:01:00+00:00                      TIRES         20.0   \n",
       "48210 2006-09-19 06:37:00+00:00          RECYCLING - PAPER         20.0   \n",
       "48965 2005-11-15 01:18:00+00:00          RECYCLING - PAPER         20.0   \n",
       "36857 2006-09-04 01:39:00+00:00       RECYCLING - COMINGLE         20.0   \n",
       "20822 2005-08-05 03:29:00+00:00          RECYCLING - PAPER         20.0   \n",
       "...                         ...                        ...          ...   \n",
       "84170 2010-09-07 11:01:00+00:00  RECYCLING - SINGLE STREAM      13300.0   \n",
       "71578 2009-09-25 10:50:00+00:00  RECYCLING - SINGLE STREAM      13300.0   \n",
       "72485 2009-10-01 10:45:00+00:00  RECYCLING - SINGLE STREAM      13300.0   \n",
       "69035 2010-10-15 10:22:00+00:00  RECYCLING - SINGLE STREAM      13300.0   \n",
       "72833 2010-06-10 02:21:00+00:00  RECYCLING - SINGLE STREAM      13300.0   \n",
       "\n",
       "      dropoff_site  \n",
       "9729           MRF  \n",
       "48210          MRF  \n",
       "48965          MRF  \n",
       "36857          MRF  \n",
       "20822          MRF  \n",
       "...            ...  \n",
       "84170          MRF  \n",
       "71578          MRF  \n",
       "72485          MRF  \n",
       "69035          MRF  \n",
       "72833          MRF  \n",
       "\n",
       "[85928 rows x 4 columns]"
      ]
     },
     "execution_count": 50,
     "metadata": {},
     "output_type": "execute_result"
    }
   ],
   "source": [
    "updated_csite_df = sorted_csite_df.copy()\n",
    "updated_csite_df"
   ]
  },
  {
   "cell_type": "markdown",
   "metadata": {},
   "source": [
    "Calculating the Range for updated choosen site without outliner so the max are based on upper boundaries load weight."
   ]
  },
  {
   "cell_type": "code",
   "execution_count": 51,
   "metadata": {},
   "outputs": [
    {
     "name": "stdout",
     "output_type": "stream",
     "text": [
      "Range : 13280.0\n"
     ]
    }
   ],
   "source": [
    "range_csite = updated_csite_df['load_weight'].max() - updated_csite_df['load_weight'].min()\n",
    "print (f'Range : {range_csite}')"
   ]
  },
  {
   "cell_type": "markdown",
   "metadata": {},
   "source": [
    "Then calculate the variance based on each value, mean of sample, and total of sample."
   ]
  },
  {
   "cell_type": "code",
   "execution_count": 52,
   "metadata": {},
   "outputs": [
    {
     "name": "stdout",
     "output_type": "stream",
     "text": [
      "Variance : 10535711.612830717\n"
     ]
    }
   ],
   "source": [
    "var_csite = updated_csite_df['load_weight'].var()\n",
    "print (f'Variance : {var_csite}')"
   ]
  },
  {
   "cell_type": "code",
   "execution_count": 53,
   "metadata": {},
   "outputs": [
    {
     "name": "stdout",
     "output_type": "stream",
     "text": [
      "Standard Deviation : 3245.8760932652244\n"
     ]
    }
   ],
   "source": [
    "std_csite = updated_csite_df['load_weight'].std()\n",
    "print (f'Standard Deviation : {std_csite}')"
   ]
  },
  {
   "cell_type": "markdown",
   "metadata": {},
   "source": [
    "Both variances and Standard deviation expressed the variability of the data but standard deviation more close to the actual value. Using the Standard Deviation is a way of knowing what is normal, and what is extra from the data. We able to concluded there are extras load weight from the figure below."
   ]
  },
  {
   "cell_type": "code",
   "execution_count": 54,
   "metadata": {},
   "outputs": [
    {
     "data": {
      "image/png": "[encoded data removed]",
      "text/plain": [
       "<Figure size 360x360 with 1 Axes>"
      ]
     },
     "metadata": {
      "needs_background": "light"
     },
     "output_type": "display_data"
    }
   ],
   "source": [
    "sns.displot(updated_csite_df['load_weight'], kde=True, label='Standard deviation on the Data')\n",
    "plt.axvline(updated_csite_df['load_weight'].std(), color='red', linestyle='dashed', linewidth=1)\n",
    "plt.show()"
   ]
  },
  {
   "cell_type": "code",
   "execution_count": 55,
   "metadata": {},
   "outputs": [],
   "source": [
    "#updated_csite_df['load_weight'].plot.hist(title='Load Weight on MRF Site', color='lightblue', bins=100) \n",
    "#plt.axvline(updated_csite_df['load_weight'].std(), color='blue', linestyle='dashed', linewidth=1)\n",
    "#plt.show()"
   ]
  },
  {
   "cell_type": "markdown",
   "metadata": {},
   "source": [
    "`Our insight is there are irregularity on the this site especially on the load weight. Most of the waste diversed to this site. MRF accommodates all kinds of waste and most active. This is can cause a dense amount of waste in  and bottleneck that area. Somehow we need to limit the amount if the waste in the future for MRF.`"
   ]
  },
  {
   "cell_type": "markdown",
   "metadata": {},
   "source": [
    "#### 7. The city government plans to add a new site. Providing analysis and suggestions regarding the storage capacity at the new site based on the calculation of the confidence interval. \n",
    "Note : What data do you use, is it only from one site or from the whole site?"
   ]
  },
  {
   "cell_type": "markdown",
   "metadata": {},
   "source": [
    "We calculate the convidence interval of our updated site data (MRF) along with other site. In our case, the researchers suggested to use a confidence interval of 95 percent. Calculating confidence Intervals using the Normal Distribution because the number of sample is more than 30. In here we will comparing the interval between all the site."
   ]
  },
  {
   "cell_type": "code",
   "execution_count": 56,
   "metadata": {},
   "outputs": [],
   "source": [
    "#stats.norm.interval(alpha=0.95, loc=np.mean(updated_csite_df['load_weight']),scale=stats.sem(updated_csite_df['load_weight']))"
   ]
  },
  {
   "cell_type": "code",
   "execution_count": 57,
   "metadata": {},
   "outputs": [],
   "source": [
    "def mean_confidence_interval(data, confidence=0.95):\n",
    "    a = 1.0 * np.array(data)\n",
    "    n = len(a)\n",
    "    m, se = np.mean(a), stats.sem(a)\n",
    "    h = se * stats.t.ppf((1 + confidence) / 2., n-1)\n",
    "    return m, m-h, m+h"
   ]
  },
  {
   "cell_type": "code",
   "execution_count": 58,
   "metadata": {},
   "outputs": [
    {
     "name": "stdout",
     "output_type": "stream",
     "text": [
      "MRF Mean and Confidence Interval :\n"
     ]
    },
    {
     "data": {
      "text/plain": [
       "(4944.448456847594, 4922.745505643748, 4966.151408051439)"
      ]
     },
     "execution_count": 58,
     "metadata": {},
     "output_type": "execute_result"
    }
   ],
   "source": [
    "print(\"MRF Mean and Confidence Interval :\")\n",
    "mean_confidence_interval(updated_csite_df['load_weight'], confidence=0.95)"
   ]
  },
  {
   "cell_type": "code",
   "execution_count": 59,
   "metadata": {},
   "outputs": [
    {
     "data": {
      "text/plain": [
       "<AxesSubplot:ylabel='Density'>"
      ]
     },
     "execution_count": 59,
     "metadata": {},
     "output_type": "execute_result"
    },
    {
     "data": {
      "image/png": "[encoded data removed]",
      "text/plain": [
       "<Figure size 432x288 with 1 Axes>"
      ]
     },
     "metadata": {
      "needs_background": "light"
     },
     "output_type": "display_data"
    }
   ],
   "source": [
    "pd.DataFrame(mean_confidence_interval(updated_csite_df['load_weight'], confidence=0.95)).plot(kind=\"density\", figsize=(6,4))"
   ]
  },
  {
   "cell_type": "code",
   "execution_count": 60,
   "metadata": {},
   "outputs": [
    {
     "name": "stdout",
     "output_type": "stream",
     "text": [
      "ELMONT Mean and Confidence Interval :\n"
     ]
    },
    {
     "data": {
      "text/plain": [
       "(15303.4, 3026.4477483322444, 27580.352251667755)"
      ]
     },
     "execution_count": 60,
     "metadata": {},
     "output_type": "execute_result"
    }
   ],
   "source": [
    "print(\"ELMONT Mean and Confidence Interval :\")\n",
    "mean_confidence_interval(df_1['load_weight'], confidence=0.95)"
   ]
  },
  {
   "cell_type": "code",
   "execution_count": 61,
   "metadata": {},
   "outputs": [
    {
     "name": "stdout",
     "output_type": "stream",
     "text": [
      "KRAMER Mean and Confidence Interval :\n"
     ]
    },
    {
     "data": {
      "text/plain": [
       "(11660.0, -7749.1769649226735, 31069.176964922674)"
      ]
     },
     "execution_count": 61,
     "metadata": {},
     "output_type": "execute_result"
    }
   ],
   "source": [
    "print(\"KRAMER Mean and Confidence Interval :\")\n",
    "mean_confidence_interval(df_2['load_weight'], confidence=0.95)"
   ]
  },
  {
   "cell_type": "code",
   "execution_count": 62,
   "metadata": {},
   "outputs": [
    {
     "name": "stdout",
     "output_type": "stream",
     "text": [
      "WILCAB Mean and Confidence Interval :\n"
     ]
    },
    {
     "data": {
      "text/plain": [
       "(11022.222222222223, 5782.733381904442, 16261.711062540004)"
      ]
     },
     "execution_count": 62,
     "metadata": {},
     "output_type": "execute_result"
    }
   ],
   "source": [
    "print(\"WILCAB Mean and Confidence Interval :\")\n",
    "mean_confidence_interval(df_4['load_weight'], confidence=0.95)"
   ]
  },
  {
   "cell_type": "code",
   "execution_count": 63,
   "metadata": {},
   "outputs": [
    {
     "name": "stdout",
     "output_type": "stream",
     "text": [
      "ZILKER Mean and Confidence Interval :\n"
     ]
    },
    {
     "data": {
      "text/plain": [
       "(11222.3125, 10780.038157282384, 11664.586842717616)"
      ]
     },
     "execution_count": 63,
     "metadata": {},
     "output_type": "execute_result"
    }
   ],
   "source": [
    "print(\"ZILKER Mean and Confidence Interval :\")\n",
    "mean_confidence_interval(df_5['load_weight'], confidence=0.95)"
   ]
  },
  {
   "cell_type": "markdown",
   "metadata": {},
   "source": [
    "`As the data scientist, we are not suggesting adding compeletely new site. Based on the analysis we only need to distributed the waste fairly to other site. The only busy site currently are MRF and ZILKER while other such as ELMONT, KRAMER, and WILCAB only perform diversion that can be counted with the fingers in that 2 decades. So in that situation we can split the capacity for each site. We only need to add several amount of load copacity to fulfill these diggerence. It also can handle the bottleneck problem. `"
   ]
  },
  {
   "cell_type": "code",
   "execution_count": 64,
   "metadata": {},
   "outputs": [],
   "source": [
    "#df[(df['dropoff_site'] == 'MRF')].sort_values(by='load_time', ascending=False)"
   ]
  },
  {
   "cell_type": "markdown",
   "metadata": {},
   "source": [
    "#### 8. Make a hypothesis test analysis of the data from the available data (the case is acquitted). \n",
    "Note : Define H0 and H1 and perform calculations using a t-test that matches your hypothesis. Write the conclusion from your calculation to the city government (Remember! the city government doesn't understand p-value, hypothesis is accepted/not accepted)."
   ]
  },
  {
   "cell_type": "markdown",
   "metadata": {},
   "source": [
    "`Is it really necessary to split the part of load to ZILKAR? Considering it also loaded enough with the waste?\". What should we measure to know is it significally similiar or not? If so we must handle the ZILKAR with same situation but if is not we can let the site as it is for now.`"
   ]
  },
  {
   "cell_type": "code",
   "execution_count": 65,
   "metadata": {},
   "outputs": [
    {
     "data": {
      "text/html": [
       "<div>\n",
       "<style scoped>\n",
       "    .dataframe tbody tr th:only-of-type {\n",
       "        vertical-align: middle;\n",
       "    }\n",
       "\n",
       "    .dataframe tbody tr th {\n",
       "        vertical-align: top;\n",
       "    }\n",
       "\n",
       "    .dataframe thead th {\n",
       "        text-align: right;\n",
       "    }\n",
       "</style>\n",
       "<table border=\"1\" class=\"dataframe\">\n",
       "  <thead>\n",
       "    <tr style=\"text-align: right;\">\n",
       "      <th></th>\n",
       "      <th>load_time</th>\n",
       "      <th>load_type</th>\n",
       "      <th>load_weight</th>\n",
       "      <th>dropoff_site</th>\n",
       "    </tr>\n",
       "  </thead>\n",
       "  <tbody>\n",
       "    <tr>\n",
       "      <th>9967</th>\n",
       "      <td>2021-07-11 07:07:05+00:00</td>\n",
       "      <td>TIRES</td>\n",
       "      <td>2120.0</td>\n",
       "      <td>MRF</td>\n",
       "    </tr>\n",
       "    <tr>\n",
       "      <th>23766</th>\n",
       "      <td>2021-07-11 07:01:08+00:00</td>\n",
       "      <td>RECYCLING - COMINGLE</td>\n",
       "      <td>2900.0</td>\n",
       "      <td>MRF</td>\n",
       "    </tr>\n",
       "    <tr>\n",
       "      <th>22873</th>\n",
       "      <td>2021-07-11 07:01:08+00:00</td>\n",
       "      <td>RECYCLING - COMINGLE</td>\n",
       "      <td>3500.0</td>\n",
       "      <td>MRF</td>\n",
       "    </tr>\n",
       "    <tr>\n",
       "      <th>36153</th>\n",
       "      <td>2021-07-11 07:00:39+00:00</td>\n",
       "      <td>RECYCLING - COMINGLE</td>\n",
       "      <td>3640.0</td>\n",
       "      <td>MRF</td>\n",
       "    </tr>\n",
       "    <tr>\n",
       "      <th>46663</th>\n",
       "      <td>2021-07-11 07:00:39+00:00</td>\n",
       "      <td>RECYCLING - COMINGLE</td>\n",
       "      <td>3400.0</td>\n",
       "      <td>MRF</td>\n",
       "    </tr>\n",
       "    <tr>\n",
       "      <th>...</th>\n",
       "      <td>...</td>\n",
       "      <td>...</td>\n",
       "      <td>...</td>\n",
       "      <td>...</td>\n",
       "    </tr>\n",
       "    <tr>\n",
       "      <th>21078</th>\n",
       "      <td>2004-10-01 01:00:00+00:00</td>\n",
       "      <td>RECYCLING - PAPER</td>\n",
       "      <td>2760.0</td>\n",
       "      <td>MRF</td>\n",
       "    </tr>\n",
       "    <tr>\n",
       "      <th>20901</th>\n",
       "      <td>2004-10-01 01:00:00+00:00</td>\n",
       "      <td>RECYCLING - PAPER</td>\n",
       "      <td>2940.0</td>\n",
       "      <td>MRF</td>\n",
       "    </tr>\n",
       "    <tr>\n",
       "      <th>53635</th>\n",
       "      <td>2004-08-30 01:40:00+00:00</td>\n",
       "      <td>RECYCLING - COMINGLE</td>\n",
       "      <td>4580.0</td>\n",
       "      <td>MRF</td>\n",
       "    </tr>\n",
       "    <tr>\n",
       "      <th>53702</th>\n",
       "      <td>2004-08-30 01:26:00+00:00</td>\n",
       "      <td>RECYCLING - PAPER</td>\n",
       "      <td>8580.0</td>\n",
       "      <td>MRF</td>\n",
       "    </tr>\n",
       "    <tr>\n",
       "      <th>26375</th>\n",
       "      <td>2000-01-26 12:39:00+00:00</td>\n",
       "      <td>RECYCLING - PAPER</td>\n",
       "      <td>2940.0</td>\n",
       "      <td>MRF</td>\n",
       "    </tr>\n",
       "  </tbody>\n",
       "</table>\n",
       "<p>85928 rows × 4 columns</p>\n",
       "</div>"
      ],
      "text/plain": [
       "                      load_time             load_type  load_weight  \\\n",
       "9967  2021-07-11 07:07:05+00:00                 TIRES       2120.0   \n",
       "23766 2021-07-11 07:01:08+00:00  RECYCLING - COMINGLE       2900.0   \n",
       "22873 2021-07-11 07:01:08+00:00  RECYCLING - COMINGLE       3500.0   \n",
       "36153 2021-07-11 07:00:39+00:00  RECYCLING - COMINGLE       3640.0   \n",
       "46663 2021-07-11 07:00:39+00:00  RECYCLING - COMINGLE       3400.0   \n",
       "...                         ...                   ...          ...   \n",
       "21078 2004-10-01 01:00:00+00:00     RECYCLING - PAPER       2760.0   \n",
       "20901 2004-10-01 01:00:00+00:00     RECYCLING - PAPER       2940.0   \n",
       "53635 2004-08-30 01:40:00+00:00  RECYCLING - COMINGLE       4580.0   \n",
       "53702 2004-08-30 01:26:00+00:00     RECYCLING - PAPER       8580.0   \n",
       "26375 2000-01-26 12:39:00+00:00     RECYCLING - PAPER       2940.0   \n",
       "\n",
       "      dropoff_site  \n",
       "9967           MRF  \n",
       "23766          MRF  \n",
       "22873          MRF  \n",
       "36153          MRF  \n",
       "46663          MRF  \n",
       "...            ...  \n",
       "21078          MRF  \n",
       "20901          MRF  \n",
       "53635          MRF  \n",
       "53702          MRF  \n",
       "26375          MRF  \n",
       "\n",
       "[85928 rows x 4 columns]"
      ]
     },
     "execution_count": 65,
     "metadata": {},
     "output_type": "execute_result"
    }
   ],
   "source": [
    "updated_csite_df[(updated_csite_df['dropoff_site'] == 'MRF')].sort_values(by='load_time', ascending=False)"
   ]
  },
  {
   "cell_type": "markdown",
   "metadata": {},
   "source": [
    "As for starter, we perform data cleaning on ZILKER to make the data equally eligible with MRF."
   ]
  },
  {
   "cell_type": "code",
   "execution_count": 66,
   "metadata": {},
   "outputs": [
    {
     "data": {
      "text/html": [
       "<div>\n",
       "<style scoped>\n",
       "    .dataframe tbody tr th:only-of-type {\n",
       "        vertical-align: middle;\n",
       "    }\n",
       "\n",
       "    .dataframe tbody tr th {\n",
       "        vertical-align: top;\n",
       "    }\n",
       "\n",
       "    .dataframe thead th {\n",
       "        text-align: right;\n",
       "    }\n",
       "</style>\n",
       "<table border=\"1\" class=\"dataframe\">\n",
       "  <thead>\n",
       "    <tr style=\"text-align: right;\">\n",
       "      <th></th>\n",
       "      <th>load_time</th>\n",
       "      <th>load_type</th>\n",
       "      <th>load_weight</th>\n",
       "      <th>dropoff_site</th>\n",
       "    </tr>\n",
       "  </thead>\n",
       "  <tbody>\n",
       "    <tr>\n",
       "      <th>94689</th>\n",
       "      <td>2007-03-28 04:45:00+00:00</td>\n",
       "      <td>YARD TRIMMING</td>\n",
       "      <td>75000.0</td>\n",
       "      <td>ZILKER</td>\n",
       "    </tr>\n",
       "    <tr>\n",
       "      <th>94573</th>\n",
       "      <td>2008-05-27 10:50:00+00:00</td>\n",
       "      <td>YARD TRIMMING</td>\n",
       "      <td>22000.0</td>\n",
       "      <td>ZILKER</td>\n",
       "    </tr>\n",
       "    <tr>\n",
       "      <th>94232</th>\n",
       "      <td>2016-05-03 12:30:00+00:00</td>\n",
       "      <td>GARBAGE COLLECTIONS</td>\n",
       "      <td>21600.0</td>\n",
       "      <td>ZILKER</td>\n",
       "    </tr>\n",
       "    <tr>\n",
       "      <th>94466</th>\n",
       "      <td>2006-05-16 12:00:00+00:00</td>\n",
       "      <td>YARD TRIMMING</td>\n",
       "      <td>20000.0</td>\n",
       "      <td>ZILKER</td>\n",
       "    </tr>\n",
       "    <tr>\n",
       "      <th>94233</th>\n",
       "      <td>2018-07-11 12:41:00+00:00</td>\n",
       "      <td>GARBAGE COLLECTIONS</td>\n",
       "      <td>19000.0</td>\n",
       "      <td>ZILKER</td>\n",
       "    </tr>\n",
       "    <tr>\n",
       "      <th>...</th>\n",
       "      <td>...</td>\n",
       "      <td>...</td>\n",
       "      <td>...</td>\n",
       "      <td>...</td>\n",
       "    </tr>\n",
       "    <tr>\n",
       "      <th>94309</th>\n",
       "      <td>2007-04-06 05:00:00+00:00</td>\n",
       "      <td>YARD TRIMMING</td>\n",
       "      <td>2000.0</td>\n",
       "      <td>ZILKER</td>\n",
       "    </tr>\n",
       "    <tr>\n",
       "      <th>94534</th>\n",
       "      <td>2008-04-15 01:40:00+00:00</td>\n",
       "      <td>YARD TRIMMING</td>\n",
       "      <td>1750.0</td>\n",
       "      <td>ZILKER</td>\n",
       "    </tr>\n",
       "    <tr>\n",
       "      <th>94181</th>\n",
       "      <td>2006-05-24 05:00:00+00:00</td>\n",
       "      <td>BRUSH</td>\n",
       "      <td>1640.0</td>\n",
       "      <td>ZILKER</td>\n",
       "    </tr>\n",
       "    <tr>\n",
       "      <th>94755</th>\n",
       "      <td>2008-03-28 02:00:00+00:00</td>\n",
       "      <td>YARD TRIMMING</td>\n",
       "      <td>1550.0</td>\n",
       "      <td>ZILKER</td>\n",
       "    </tr>\n",
       "    <tr>\n",
       "      <th>94366</th>\n",
       "      <td>2008-03-27 05:15:00+00:00</td>\n",
       "      <td>YARD TRIMMING</td>\n",
       "      <td>1000.0</td>\n",
       "      <td>ZILKER</td>\n",
       "    </tr>\n",
       "  </tbody>\n",
       "</table>\n",
       "<p>656 rows × 4 columns</p>\n",
       "</div>"
      ],
      "text/plain": [
       "                      load_time            load_type  load_weight dropoff_site\n",
       "94689 2007-03-28 04:45:00+00:00        YARD TRIMMING      75000.0       ZILKER\n",
       "94573 2008-05-27 10:50:00+00:00        YARD TRIMMING      22000.0       ZILKER\n",
       "94232 2016-05-03 12:30:00+00:00  GARBAGE COLLECTIONS      21600.0       ZILKER\n",
       "94466 2006-05-16 12:00:00+00:00        YARD TRIMMING      20000.0       ZILKER\n",
       "94233 2018-07-11 12:41:00+00:00  GARBAGE COLLECTIONS      19000.0       ZILKER\n",
       "...                         ...                  ...          ...          ...\n",
       "94309 2007-04-06 05:00:00+00:00        YARD TRIMMING       2000.0       ZILKER\n",
       "94534 2008-04-15 01:40:00+00:00        YARD TRIMMING       1750.0       ZILKER\n",
       "94181 2006-05-24 05:00:00+00:00                BRUSH       1640.0       ZILKER\n",
       "94755 2008-03-28 02:00:00+00:00        YARD TRIMMING       1550.0       ZILKER\n",
       "94366 2008-03-27 05:15:00+00:00        YARD TRIMMING       1000.0       ZILKER\n",
       "\n",
       "[656 rows x 4 columns]"
      ]
     },
     "execution_count": 66,
     "metadata": {},
     "output_type": "execute_result"
    }
   ],
   "source": [
    "c1site_df = df[(df['dropoff_site'] == 'ZILKER')].sort_values(by='load_weight', ascending=False)\n",
    "c1site_df"
   ]
  },
  {
   "cell_type": "code",
   "execution_count": 67,
   "metadata": {},
   "outputs": [
    {
     "name": "stdout",
     "output_type": "stream",
     "text": [
      "Skewness: 1.667144687707162\n",
      "Kurtosis: 21.02099454203747\n"
     ]
    }
   ],
   "source": [
    "print('Skewness: ' + str(c1site_df['load_weight'].skew()))\n",
    "print('Kurtosis: ' + str(c1site_df['load_weight'].kurt()))"
   ]
  },
  {
   "cell_type": "markdown",
   "metadata": {},
   "source": [
    "There is one extreme found on the box tool according to the figure."
   ]
  },
  {
   "cell_type": "code",
   "execution_count": 68,
   "metadata": {},
   "outputs": [
    {
     "data": {
      "image/png": "[encoded data removed]",
      "text/plain": [
       "<Figure size 432x360 with 1 Axes>"
      ]
     },
     "metadata": {
      "needs_background": "light"
     },
     "output_type": "display_data"
    }
   ],
   "source": [
    "c1site_df['load_weight'].plot(kind='box', title='ZILKAR load-weight from 2000 - 2021', figsize=(6,5))\n",
    "plt.show()"
   ]
  },
  {
   "cell_type": "code",
   "execution_count": 69,
   "metadata": {},
   "outputs": [
    {
     "name": "stdout",
     "output_type": "stream",
     "text": [
      "The IQR is :  11000.0\n"
     ]
    }
   ],
   "source": [
    "c1site_q3, c1site_q1 = np.percentile(c1site_df['load_weight'], [75 ,25])\n",
    "c1site_iqr = c1site_q3 - c1site_q1\n",
    "print('The IQR is : ', c1site_iqr)"
   ]
  },
  {
   "cell_type": "code",
   "execution_count": 70,
   "metadata": {},
   "outputs": [
    {
     "name": "stdout",
     "output_type": "stream",
     "text": [
      "The Upper Boundaries :  31500.0\n"
     ]
    }
   ],
   "source": [
    "max_c1site_iqr = c1site_q3 + 1.5 * c1site_iqr\n",
    "print('The Upper Boundaries : ', max_c1site_iqr)"
   ]
  },
  {
   "cell_type": "markdown",
   "metadata": {},
   "source": [
    "Next, perform trimming method similiar with MRF."
   ]
  },
  {
   "cell_type": "code",
   "execution_count": 71,
   "metadata": {},
   "outputs": [],
   "source": [
    "c1site_df.drop(c1site_df[c1site_df['load_weight'] > max_c1site_iqr].index, inplace = True)"
   ]
  },
  {
   "cell_type": "code",
   "execution_count": 72,
   "metadata": {},
   "outputs": [
    {
     "data": {
      "image/png": "[encoded data removed]",
      "text/plain": [
       "<Figure size 432x360 with 1 Axes>"
      ]
     },
     "metadata": {
      "needs_background": "light"
     },
     "output_type": "display_data"
    }
   ],
   "source": [
    "c1site_df['load_weight'].plot(kind='box', title='ZILKAR load-weight from 2000 - 2021', figsize=(6,5))\n",
    "plt.show()"
   ]
  },
  {
   "cell_type": "markdown",
   "metadata": {},
   "source": [
    "Then we see whether the MRF and ZILKER sites differ significantly. We can see the p-value then compare it with Alpha."
   ]
  },
  {
   "cell_type": "code",
   "execution_count": 73,
   "metadata": {},
   "outputs": [],
   "source": [
    "site1 = pd.DataFrame(updated_csite_df['load_weight'])\n",
    "site2 = pd.DataFrame(c1site_df['load_weight'])"
   ]
  },
  {
   "cell_type": "code",
   "execution_count": 74,
   "metadata": {},
   "outputs": [
    {
     "data": {
      "text/html": [
       "<div>\n",
       "<style scoped>\n",
       "    .dataframe tbody tr th:only-of-type {\n",
       "        vertical-align: middle;\n",
       "    }\n",
       "\n",
       "    .dataframe tbody tr th {\n",
       "        vertical-align: top;\n",
       "    }\n",
       "\n",
       "    .dataframe thead th {\n",
       "        text-align: right;\n",
       "    }\n",
       "</style>\n",
       "<table border=\"1\" class=\"dataframe\">\n",
       "  <thead>\n",
       "    <tr style=\"text-align: right;\">\n",
       "      <th></th>\n",
       "      <th>load_weight</th>\n",
       "    </tr>\n",
       "  </thead>\n",
       "  <tbody>\n",
       "    <tr>\n",
       "      <th>94573</th>\n",
       "      <td>22000.0</td>\n",
       "    </tr>\n",
       "    <tr>\n",
       "      <th>94232</th>\n",
       "      <td>21600.0</td>\n",
       "    </tr>\n",
       "    <tr>\n",
       "      <th>94466</th>\n",
       "      <td>20000.0</td>\n",
       "    </tr>\n",
       "    <tr>\n",
       "      <th>94233</th>\n",
       "      <td>19000.0</td>\n",
       "    </tr>\n",
       "    <tr>\n",
       "      <th>94496</th>\n",
       "      <td>18000.0</td>\n",
       "    </tr>\n",
       "    <tr>\n",
       "      <th>...</th>\n",
       "      <td>...</td>\n",
       "    </tr>\n",
       "    <tr>\n",
       "      <th>94309</th>\n",
       "      <td>2000.0</td>\n",
       "    </tr>\n",
       "    <tr>\n",
       "      <th>94534</th>\n",
       "      <td>1750.0</td>\n",
       "    </tr>\n",
       "    <tr>\n",
       "      <th>94181</th>\n",
       "      <td>1640.0</td>\n",
       "    </tr>\n",
       "    <tr>\n",
       "      <th>94755</th>\n",
       "      <td>1550.0</td>\n",
       "    </tr>\n",
       "    <tr>\n",
       "      <th>94366</th>\n",
       "      <td>1000.0</td>\n",
       "    </tr>\n",
       "  </tbody>\n",
       "</table>\n",
       "<p>655 rows × 1 columns</p>\n",
       "</div>"
      ],
      "text/plain": [
       "       load_weight\n",
       "94573      22000.0\n",
       "94232      21600.0\n",
       "94466      20000.0\n",
       "94233      19000.0\n",
       "94496      18000.0\n",
       "...            ...\n",
       "94309       2000.0\n",
       "94534       1750.0\n",
       "94181       1640.0\n",
       "94755       1550.0\n",
       "94366       1000.0\n",
       "\n",
       "[655 rows x 1 columns]"
      ]
     },
     "execution_count": 74,
     "metadata": {},
     "output_type": "execute_result"
    }
   ],
   "source": [
    "site2"
   ]
  },
  {
   "cell_type": "markdown",
   "metadata": {},
   "source": [
    "Our hypothesis on this case:\n",
    "\n",
    "**H0: μ_site1 = μ_site2**\n",
    "\n",
    "**H1: μ_site1 != μ_site2**"
   ]
  },
  {
   "cell_type": "code",
   "execution_count": 75,
   "metadata": {},
   "outputs": [
    {
     "name": "stdout",
     "output_type": "stream",
     "text": [
      "P-value: 0.0\n",
      "t-statistics: -48.26129783539742\n"
     ]
    }
   ],
   "source": [
    "t_stat, p_val = stats.ttest_ind(site1 ,site2)\n",
    "\n",
    "print('P-value:',p_val[0]) #the p-value isn't divided by 2 since the output is two-sided p-value\n",
    "print('t-statistics:',t_stat[0])"
   ]
  },
  {
   "cell_type": "code",
   "execution_count": 76,
   "metadata": {},
   "outputs": [
    {
     "name": "stderr",
     "output_type": "stream",
     "text": [
      "/Users/shafiralaksitasari/opt/anaconda3/lib/python3.9/site-packages/seaborn/distributions.py:2619: FutureWarning: `distplot` is a deprecated function and will be removed in a future version. Please adapt your code to use either `displot` (a figure-level function with similar flexibility) or `histplot` (an axes-level function for histograms).\n",
      "  warnings.warn(msg, FutureWarning)\n",
      "/Users/shafiralaksitasari/opt/anaconda3/lib/python3.9/site-packages/seaborn/distributions.py:2619: FutureWarning: `distplot` is a deprecated function and will be removed in a future version. Please adapt your code to use either `displot` (a figure-level function with similar flexibility) or `histplot` (an axes-level function for histograms).\n",
      "  warnings.warn(msg, FutureWarning)\n"
     ]
    },
    {
     "data": {
      "text/plain": [
       "<matplotlib.lines.Line2D at 0x7fca2e6cef40>"
      ]
     },
     "execution_count": 76,
     "metadata": {},
     "output_type": "execute_result"
    },
    {
     "data": {
      "image/png": "[encoded data removed]",
      "text/plain": [
       "<Figure size 1152x360 with 1 Axes>"
      ]
     },
     "metadata": {
      "needs_background": "light"
     },
     "output_type": "display_data"
    }
   ],
   "source": [
    "site1_pop = np.random.normal(site1['load_weight'].mean(),site1['load_weight'].std(),10000)\n",
    "site2_pop = np.random.normal(site2['load_weight'].mean(),site2['load_weight'].std(),10000)\n",
    "\n",
    "ci = stats.norm.interval(0.95, site1['load_weight'].mean(), site1['load_weight'].std())\n",
    "plt.figure(figsize=(16,5))\n",
    "sns.distplot(site1_pop, label='MRF',color='blue')\n",
    "sns.distplot(site2_pop, label='ZILKER',color='red')\n",
    "\n",
    "plt.axvline(site1['load_weight'].mean(), color='blue', linewidth=2, label='France mean')\n",
    "plt.axvline(site2['load_weight'].mean(), color='red',  linewidth=2, label='Germany mean')\n",
    "#c[0] = batas bawah, c[1]=batas atas\n",
    "plt.axvline(ci[1], color='green', linestyle='dashed', linewidth=2, label='confidence threshold of 95%')\n",
    "plt.axvline(ci[0], color='green', linestyle='dashed', linewidth=2)\n",
    "\n",
    "plt.axvline(site1_pop.mean()+t_stat[0]*site1_pop.std(), color='black', linestyle='dashed', linewidth=2, label = 'Alternative Hypothesis')\n",
    "plt.axvline(site1_pop.mean()-t_stat[0]*site1_pop.std(), color='black', linestyle='dashed', linewidth=2)\n"
   ]
  },
  {
   "cell_type": "markdown",
   "metadata": {},
   "source": [
    "`The result is eject the H0, Wich make MRF and ZILKAR significally different.`"
   ]
  },
  {
   "cell_type": "markdown",
   "metadata": {},
   "source": [
    "#### 9. Drawing the red thread and conclusions from the calculations and analyzes that have done in the previous steps. \n",
    "Share your conclusions with the city government and avoid technical language that non-data scientists don't understand!"
   ]
  },
  {
   "cell_type": "markdown",
   "metadata": {},
   "source": [
    "`Previously we try to investigate why MRF is so popular now we know why because this site the only active until now. So as for government we need to deactivate another site so we won't spending another bucks to buy any land. Why we have that much of site but only MRF which still active until 2021? Based on the report of those site still empty but the facility inadequate like on the MR. If handling to much site is too much we can choose to several sites to functioning.For example MFR handling 1000-6000 load weight, then the rest must handling more or lest than that load. Do not forget we also must rerun ZILKAR site as it is to carrying another load for MRF. if  the cost of gas and distance affecting those factors, we must resolve this situation. And if those site close because of waste were leave as it is so that it has crossed the capacity limit means we have to promote the movement to minimize waste or create new policies until this is problem is solved.`"
   ]
  },
  {
   "cell_type": "markdown",
   "metadata": {},
   "source": [
    "### Problem 2"
   ]
  },
  {
   "cell_type": "markdown",
   "metadata": {},
   "source": [
    "### Answering the Following Questions:"
   ]
  },
  {
   "cell_type": "markdown",
   "metadata": {},
   "source": [
    "#### 1. What is the difference between descriptive and inferential statistics?"
   ]
  },
  {
   "cell_type": "markdown",
   "metadata": {},
   "source": [
    "`According to (Peck, Olsen, & Devore, 2012), The descriptive statistics is part of statistics which methods to organizing and summarizing data. On the other hand, inferential statistics also part of statistics which deals with generalizations from samples to the population from which they were selected and evaluating the reliability of such generalizations. Data description and statistical inference are both processes of data analysis after data has been collected as required. In descriptive statistics, we organize and summarizing data, such as the use of tables, graphs, or numerical summaries. In Inferential Statistics, the task is to generalizes the sample obtained to represent a population because it is impossible to obtain the entire population data. This type of generalization can put researcher at risk for drawing the wrong conclusions about the population because it is based on insufficient data (Peck, Olsen, & Devore, 2012).`"
   ]
  },
  {
   "cell_type": "markdown",
   "metadata": {},
   "source": [
    "#### 2. What metric on the central tendency is appropriate to use to conclude that the data are normally distributed and not? Is it the same or different?"
   ]
  },
  {
   "cell_type": "markdown",
   "metadata": {},
   "source": [
    "`There are 3 metrics on the central tendency, there are the mode, the median, and the mean. Median and mean is often use to determining the central value while mode is often used in categorical data (Rees, 2018). Since it 'Central' usually it is indeed affected the use of mean or median based on the data type (normal distribution or skewed) according of their data shape. In normal distribution, the mean is primary used but more symmetrical the distribution, The mean, median, and mode are almost similiar or equal which make it very rare (but not impossible) (Rees, 2018). Mean also can being considered more precised because it contains all data values including those median and mode so that is the reason why mean more favourable for symmetrical data. But as the noted every change affect the mean so it is not suggested to use the mean on skewed data (Statistics, n.d.). In skewed data, the median is often used. The reason is becaused the unbalanced data distribution so if there is any change, median would not be affected like mean (Rees, 2018). Those are the reason why why the usage of those metrics not same between the data shape. But we can always use both in case there are any doubt (Rees, 2018).`"
   ]
  },
  {
   "cell_type": "markdown",
   "metadata": {},
   "source": [
    "#### 3. What technique did you choose for handling outliers? explain why!"
   ]
  },
  {
   "cell_type": "markdown",
   "metadata": {},
   "source": [
    "`By using boxplot based on Tukey method (1977) especially trimming. The reason is when I use trimming, there is no clumping on the right side unlike censoring which I tested before. In trimming we deleted several row and data quantity change and affected the entire mean, Q1, median, Q3, and max so the upper boundaries also changed. As for censoring, it removed the outlier because of IQR only affected the 1st quartile and 3rd quartile and it happened from the data case that the quantity of the data does not change which make the median not shifting so the updated data have no outlier. But in censoring there is extreme outlier which make the data far becoming normal.`\n"
   ]
  },
  {
   "cell_type": "markdown",
   "metadata": {},
   "source": [
    "#### 4. What is the concept behind central tendency that we can use to complete step 7?"
   ]
  },
  {
   "cell_type": "markdown",
   "metadata": {},
   "source": [
    "<img src='https://upload.wikimedia.org/wikipedia/commons/thumb/8/8c/Standard_deviation_diagram.svg/500px-Standard_deviation_diagram.svg.png'>"
   ]
  },
  {
   "cell_type": "markdown",
   "metadata": {},
   "source": [
    "`In Central Tendency there are mean, median, quartiles, and mode. Confidence Interval (CI) asissts us to obtain the lower and upper limit as estimation but with precentage of confidence. The middle value are important in this CI because it based on mean and the range determined by plus and minus of variance. On 7th steps, we determined all CI of sites then picturing all the value together as one graph. Then we finding the right capacity based on mean on each sites`"
   ]
  },
  {
   "cell_type": "markdown",
   "metadata": {},
   "source": [
    "#### 5. Explain what type of hypothesis testing did you apply and why?"
   ]
  },
  {
   "cell_type": "markdown",
   "metadata": {},
   "source": [
    "`Two Samples Independent Two Tailed Hypothesis Testing, the reason is because we want to compare between to independent data especially these both from different site and quantity but have similiar variable to measure (weight load). `"
   ]
  },
  {
   "cell_type": "markdown",
   "metadata": {},
   "source": [
    "### Conclusions, Assumptions, Overall Analysis\n",
    "Based on the analysis above, the problem can be solved and these are the answere:"
   ]
  },
  {
   "cell_type": "markdown",
   "metadata": {},
   "source": [
    "3. Based on the central tendency (mean, median, and mode) for each site, what insights/information can you convey to the city government?\n",
    "\n",
    "`Currently we have 5 sites. The MRF has average of 5313.77 load weight in 2 decades while the largest is ELMONT with 15303. The highest the number doesn’t mean it is the problem because the only active right now is MRF. MRF has variety of load weight from only 20 to 2732. While the largest been dropping 5480 until 31857 but. only doing diversion for 5 times`\n",
    "\n",
    "4. Choosing the site that interestsing the most, and give a reason.\n",
    "\n",
    "`The site I chose to analyze is MRF. The reason is the site has the most diversion among all sites with various type of load type. We should investigate why this MRF is so popular and are there any values that influence this situation.`\n",
    "\n",
    "\n",
    "5. Checking whether the load_weight data has outliers or not. Use the right \n",
    "`technique according to the distribution of the data. If so, what is the percentage of the number of outliers? and compare the central tendency of data that has outliers removed with those that have not.\n",
    "\n",
    "`Yes, It has several outliers. There are a lot of outlier inside the data. Previously we already figured the skewness of the data. Soon we will censor the data to getting rid of outliers value. We obtained the skewness = `1.0031737648633852` (greater than 1) means the data are highly skewed.`\n",
    "`After we comparing the Central Tendency, all of the value except the max has been change. It is because the number of data has been change and the maximun value also change. This is the effect of using trimming to resolved the outlier.`\n",
    "\n",
    "6. Use the to calculate the range, variance, and standard deviation for the load_weight data. Provide insight from the results of the calculations to the city government.\n",
    "\n",
    "`Our insight is there are irregularity on the this site especially on the load weight. Most of the waste diversed to this site. MRF accommodates all kinds of waste and most active. This is can cause a dense amount of waste in  and bottleneck that area. Somehow we need to limit the amount if the waste in the future for MRF.`\n",
    "\n",
    "\n",
    "\n",
    "7. Providinh analysis and suggestions regarding the amount of storage capacity at the new site based on the calculation of the confidence interval. What data do we use, is it only from one site or from the whole site?\n",
    "\n",
    "`As the data scientist, we are not suggesting adding compeletely new site. Based on the analysis we only need to distributed the waste fairly to other site. The only busy site currently are MRF and ZILKER while other such as ELMONT, KRAMER, and WILCAB only perform diversion that can be counted with the fingers in that 2 decades. So in that situation we can split the capacity for each site. We only need to add several amount of load copacity to fulfill these diggerence. It also can handle the bottleneck problem. `\n",
    "\n",
    "\n",
    "8. Make a hypothesis test analysis of the data from the available data (the case is acquitted). Write the conclusion from your calculation to the city government.\n",
    "\n",
    "`Is it really necessary to split the part of load to ZILKAR? Considering it also loaded enough with the waste?\". What should we measure to know is it significally similiar or not? If so we must handle the ZILKAR with same situation but if is not we can let the site as it is for now.`\n",
    "`The result is eject the H0, Wich make MRF and ZILKAR significally different.`\n",
    "\n",
    "\n",
    "9. Drawing a common thread and draw conclusions from the calculations and analyzes in the previous steps. \n",
    "\n",
    "`Previously we try to investigate why MRF is so popular now we know why because this site the only active until now. So as for government we need to deactivate another site so we won't spending another bucks to buy any land. Why we have that much of site but only MRF which still active until 2021? Based on the report of those site still empty but the facility inadequate like on the MR. If handling to much site is too much we can choose to several sites to functioning.For example MFR handling 1000-6000 load weight, then the rest must handling more or lest than that load. Do not forget we also must rerun ZILKAR site as it is to carrying another load for MRF. if  the cost of gas and distance affecting those factors, we must resolve this situation. And if those site close because of waste were leave as it is so that it has crossed the capacity limit means we have to promote the movement to minimize waste or create new policies until this is problem is solved.`\n",
    "\n"
   ]
  },
  {
   "cell_type": "markdown",
   "metadata": {},
   "source": [
    "### REFERENCES \n",
    "\n",
    "1. Peck, R., Olsen, C., & Devore, J. (2012). Introduction to Statistics & Data Analysis (4th Edition). Boston, Masachusetts: Cengage Learning.\n",
    "2. Rees, D. (2018). Essential Statistics. CRC Press. Retrieved from : https://www.google.co.id/books/edition/Essential_Statistics/KU1ZDwAAQBAJ?hl=id&gbpv=1&dq=when+we+use+mean,+median+and+mode&pg=PA36&printsec=frontcover\n",
    "3. Statistics, L. (n.d.). Measures of Central Tendency. Retrieved from Laerd Statistics: https://statistics.laerd.com/statistical-guides/measures-central-tendency-mean-mode-median.php\n",
    "4. Tukey, JW. Exploratory data analysis. Addison-Wesely, 1977\n"
   ]
  }
 ],
 "metadata": {
  "kernelspec": {
   "display_name": "Python 3.9.12 ('base')",
   "language": "python",
   "name": "python3"
  },
  "language_info": {
   "codemirror_mode": {
    "name": "ipython",
    "version": 3
   },
   "file_extension": ".py",
   "mimetype": "text/x-python",
   "name": "python",
   "nbconvert_exporter": "python",
   "pygments_lexer": "ipython3",
   "version": "3.9.12"
  },
  "orig_nbformat": 4,
  "vscode": {
   "interpreter": {
    "hash": "5c1b007f0df996ff21572431fa470bbbd2757d7d38c434d994b25fbad50f849f"
   }
  }
 },
 "nbformat": 4,
 "nbformat_minor": 2
}
